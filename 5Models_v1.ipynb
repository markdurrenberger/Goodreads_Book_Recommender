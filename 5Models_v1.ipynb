{
 "cells": [
  {
   "cell_type": "code",
   "execution_count": 1,
   "metadata": {},
   "outputs": [],
   "source": [
    "import pandas as pd\n",
    "import numpy as np\n",
    "import matplotlib.pyplot as plt"
   ]
  },
  {
   "cell_type": "code",
   "execution_count": 2,
   "metadata": {},
   "outputs": [],
   "source": [
    "data = pd.read_csv('data/model1_data_cleaned.csv', index_col=['user_id','book_id'])"
   ]
  },
  {
   "cell_type": "code",
   "execution_count": 3,
   "metadata": {},
   "outputs": [
    {
     "data": {
      "text/html": [
       "<div>\n",
       "<style scoped>\n",
       "    .dataframe tbody tr th:only-of-type {\n",
       "        vertical-align: middle;\n",
       "    }\n",
       "\n",
       "    .dataframe tbody tr th {\n",
       "        vertical-align: top;\n",
       "    }\n",
       "\n",
       "    .dataframe thead th {\n",
       "        text-align: right;\n",
       "    }\n",
       "</style>\n",
       "<table border=\"1\" class=\"dataframe\">\n",
       "  <thead>\n",
       "    <tr style=\"text-align: right;\">\n",
       "      <th></th>\n",
       "      <th></th>\n",
       "      <th>rating</th>\n",
       "      <th>user_avg_rating</th>\n",
       "      <th>book_cluster</th>\n",
       "      <th>user_avg_rating_by_cluster</th>\n",
       "      <th>book_avg_rating</th>\n",
       "    </tr>\n",
       "    <tr>\n",
       "      <th>user_id</th>\n",
       "      <th>book_id</th>\n",
       "      <th></th>\n",
       "      <th></th>\n",
       "      <th></th>\n",
       "      <th></th>\n",
       "      <th></th>\n",
       "    </tr>\n",
       "  </thead>\n",
       "  <tbody>\n",
       "    <tr>\n",
       "      <th>000192962b87d560f00b06fdcbd71681</th>\n",
       "      <th>30025791</th>\n",
       "      <td>5</td>\n",
       "      <td>5.0</td>\n",
       "      <td>0</td>\n",
       "      <td>5.0</td>\n",
       "      <td>4.19</td>\n",
       "    </tr>\n",
       "    <tr>\n",
       "      <th>0005a08accd53b1e19c52109a1f478cb</th>\n",
       "      <th>59960</th>\n",
       "      <td>0</td>\n",
       "      <td>3.4</td>\n",
       "      <td>4</td>\n",
       "      <td>0.0</td>\n",
       "      <td>4.25</td>\n",
       "    </tr>\n",
       "    <tr>\n",
       "      <th>000700ecd5db3a9b0c4e392ed2e4f70b</th>\n",
       "      <th>11790194</th>\n",
       "      <td>5</td>\n",
       "      <td>5.0</td>\n",
       "      <td>0</td>\n",
       "      <td>5.0</td>\n",
       "      <td>4.04</td>\n",
       "    </tr>\n",
       "    <tr>\n",
       "      <th rowspan=\"2\" valign=\"top\">0008931c0cde961e9c802c5a58196d23</th>\n",
       "      <th>500503</th>\n",
       "      <td>5</td>\n",
       "      <td>5.0</td>\n",
       "      <td>1</td>\n",
       "      <td>5.0</td>\n",
       "      <td>4.29</td>\n",
       "    </tr>\n",
       "    <tr>\n",
       "      <th>6081685</th>\n",
       "      <td>5</td>\n",
       "      <td>5.0</td>\n",
       "      <td>1</td>\n",
       "      <td>5.0</td>\n",
       "      <td>4.40</td>\n",
       "    </tr>\n",
       "  </tbody>\n",
       "</table>\n",
       "</div>"
      ],
      "text/plain": [
       "                                           rating  user_avg_rating  \\\n",
       "user_id                          book_id                             \n",
       "000192962b87d560f00b06fdcbd71681 30025791       5              5.0   \n",
       "0005a08accd53b1e19c52109a1f478cb 59960          0              3.4   \n",
       "000700ecd5db3a9b0c4e392ed2e4f70b 11790194       5              5.0   \n",
       "0008931c0cde961e9c802c5a58196d23 500503         5              5.0   \n",
       "                                 6081685        5              5.0   \n",
       "\n",
       "                                           book_cluster  \\\n",
       "user_id                          book_id                  \n",
       "000192962b87d560f00b06fdcbd71681 30025791             0   \n",
       "0005a08accd53b1e19c52109a1f478cb 59960                4   \n",
       "000700ecd5db3a9b0c4e392ed2e4f70b 11790194             0   \n",
       "0008931c0cde961e9c802c5a58196d23 500503               1   \n",
       "                                 6081685              1   \n",
       "\n",
       "                                           user_avg_rating_by_cluster  \\\n",
       "user_id                          book_id                                \n",
       "000192962b87d560f00b06fdcbd71681 30025791                         5.0   \n",
       "0005a08accd53b1e19c52109a1f478cb 59960                            0.0   \n",
       "000700ecd5db3a9b0c4e392ed2e4f70b 11790194                         5.0   \n",
       "0008931c0cde961e9c802c5a58196d23 500503                           5.0   \n",
       "                                 6081685                          5.0   \n",
       "\n",
       "                                           book_avg_rating  \n",
       "user_id                          book_id                    \n",
       "000192962b87d560f00b06fdcbd71681 30025791             4.19  \n",
       "0005a08accd53b1e19c52109a1f478cb 59960                4.25  \n",
       "000700ecd5db3a9b0c4e392ed2e4f70b 11790194             4.04  \n",
       "0008931c0cde961e9c802c5a58196d23 500503               4.29  \n",
       "                                 6081685              4.40  "
      ]
     },
     "execution_count": 3,
     "metadata": {},
     "output_type": "execute_result"
    }
   ],
   "source": [
    "data.head()"
   ]
  },
  {
   "cell_type": "markdown",
   "metadata": {},
   "source": [
    "# Preprocessing & Modeling\n",
    "\n",
    "I've got my data set up from the prior notebook. Ready for preprocessing and dividing into training sets."
   ]
  },
  {
   "cell_type": "code",
   "execution_count": 4,
   "metadata": {},
   "outputs": [],
   "source": [
    "from sklearn.preprocessing import StandardScaler\n",
    "\n",
    "# Define X, y\n",
    "X = data.drop('rating', axis=1)\n",
    "y = data.rating\n",
    "\n",
    "# Preprocessing\n",
    "scaler = StandardScaler().fit(X)\n",
    "X_scaled = scaler.transform(X)"
   ]
  },
  {
   "cell_type": "code",
   "execution_count": 5,
   "metadata": {},
   "outputs": [],
   "source": [
    "# Split into training/testing sets\n",
    "from sklearn.model_selection import train_test_split\n",
    "\n",
    "y = y.ravel()\n",
    "X_train, X_test, y_train, y_test = train_test_split(X_scaled, y, random_state=2)"
   ]
  },
  {
   "cell_type": "markdown",
   "metadata": {},
   "source": [
    "# Model 1: KNN\n",
    "\n",
    "First I'm going to use a K-Nearest Neighbors model. This is a really simply model, but at least gives me a starting place."
   ]
  },
  {
   "cell_type": "code",
   "execution_count": 6,
   "metadata": {},
   "outputs": [],
   "source": [
    "# First will just run it \"out of the box\"\n",
    "from sklearn.neighbors import KNeighborsClassifier\n",
    "from sklearn.metrics import accuracy_score, precision_score, recall_score, f1_score\n",
    "knn = KNeighborsClassifier()\n",
    "model_1 = knn.fit(X_train, y_train)\n",
    "y_pred = knn.predict(X_test)"
   ]
  },
  {
   "cell_type": "code",
   "execution_count": 7,
   "metadata": {},
   "outputs": [
    {
     "name": "stdout",
     "output_type": "stream",
     "text": [
      "Accuracy: 0.52\n",
      "Precision: 0.48\n",
      "Recall: 0.45\n",
      "F1 Score: 0.46\n"
     ]
    }
   ],
   "source": [
    "from sklearn.metrics import accuracy_score\n",
    "print('Accuracy: {:.2f}'.format(accuracy_score(y_test, y_pred)))\n",
    "print('Precision: {:.2f}'.format(precision_score(y_test, y_pred, average='macro')))\n",
    "print('Recall: {:.2f}'.format(recall_score(y_test, y_pred, average='macro')))\n",
    "print('F1 Score: {:.2f}'.format(f1_score(y_test, y_pred, average='macro')))"
   ]
  },
  {
   "cell_type": "markdown",
   "metadata": {},
   "source": [
    "This first, basic model, has accuracy of 52% - not great, by this or other metrics. I'm going to use GridSearch to see if other k's give better performance metrics.\n",
    "\n",
    "Then, I'll try a couple other algorithms on this base model to get an idea of if any is better than any other.\n",
    "\n",
    "Then I'll move into stage 2 of my model which adds the sentiment analysis of the review text. That will be a new feature: whether the review was negative, positive or neutral."
   ]
  },
  {
   "cell_type": "code",
   "execution_count": 8,
   "metadata": {},
   "outputs": [
    {
     "name": "stdout",
     "output_type": "stream",
     "text": [
      "Fitting 3 folds for each of 10 candidates, totalling 30 fits\n"
     ]
    },
    {
     "name": "stderr",
     "output_type": "stream",
     "text": [
      "[Parallel(n_jobs=1)]: Using backend SequentialBackend with 1 concurrent workers.\n",
      "[Parallel(n_jobs=1)]: Done  30 out of  30 | elapsed:  5.3min finished\n"
     ]
    }
   ],
   "source": [
    "# KNN with GridSearch to see if there's a better k to use\n",
    "from sklearn.model_selection import GridSearchCV\n",
    "\n",
    "grid_params = {\n",
    "    'n_neighbors' : [5,7,9,11,13],\n",
    "    'weights' : ['uniform', 'distance']\n",
    "}\n",
    "\n",
    "gs = GridSearchCV(KNeighborsClassifier(), grid_params, verbose=1, cv=3)\n",
    "\n",
    "gs_results = gs.fit(X_train, y_train)"
   ]
  },
  {
   "cell_type": "code",
   "execution_count": 9,
   "metadata": {},
   "outputs": [
    {
     "name": "stdout",
     "output_type": "stream",
     "text": [
      "Best Parameters: {'n_neighbors': 13, 'weights': 'uniform'}\n",
      "Bset Score: 0.5439038553267385\n"
     ]
    }
   ],
   "source": [
    "print('Best Parameters: {}'.format(gs_results.best_params_))\n",
    "print('Bset Score: {}'.format(gs_results.best_score_))"
   ]
  },
  {
   "cell_type": "markdown",
   "metadata": {},
   "source": [
    "So, with KNN, bumping k up to 13 increased accuracy a few %. Not enough to make much of a material difference. \n",
    "Let's look at a couple different algorithms and then see if adding some additional features helps much."
   ]
  },
  {
   "cell_type": "markdown",
   "metadata": {},
   "source": [
    "# Model 2: Decision Tree\n",
    "\n",
    "Let's try using a decision tree model."
   ]
  },
  {
   "cell_type": "code",
   "execution_count": 10,
   "metadata": {},
   "outputs": [],
   "source": [
    "from sklearn.tree import DecisionTreeClassifier\n",
    "\n",
    "model_2 = DecisionTreeClassifier(criterion='gini',max_depth=3)\n",
    "\n",
    "model_2.fit(X_train, y_train)\n",
    "\n",
    "y_pred = model_2.predict(X_test)"
   ]
  },
  {
   "cell_type": "code",
   "execution_count": 11,
   "metadata": {},
   "outputs": [
    {
     "name": "stdout",
     "output_type": "stream",
     "text": [
      "Accuracy: 0.53\n",
      "Precision: 0.44\n",
      "Recall: 0.38\n",
      "F1 Score: 0.39\n"
     ]
    },
    {
     "name": "stderr",
     "output_type": "stream",
     "text": [
      "C:\\Users\\mdurr\\anaconda3\\lib\\site-packages\\sklearn\\metrics\\_classification.py:1272: UndefinedMetricWarning: Precision is ill-defined and being set to 0.0 in labels with no predicted samples. Use `zero_division` parameter to control this behavior.\n",
      "  _warn_prf(average, modifier, msg_start, len(result))\n"
     ]
    }
   ],
   "source": [
    "print('Accuracy: {:.2f}'.format(accuracy_score(y_test, y_pred)))\n",
    "print('Precision: {:.2f}'.format(precision_score(y_test, y_pred, average='macro')))\n",
    "print('Recall: {:.2f}'.format(recall_score(y_test, y_pred, average='macro')))\n",
    "print('F1 Score: {:.2f}'.format(f1_score(y_test, y_pred, average='macro')))"
   ]
  },
  {
   "cell_type": "markdown",
   "metadata": {},
   "source": [
    "This base decision tree is slightly more accurate than the base KNN model (although actually a tad less accurate than the k=13 version). And significantly worse on the other metrics.\n",
    "\n",
    "Let's play around with different tree depths and/or constraints"
   ]
  },
  {
   "cell_type": "code",
   "execution_count": 15,
   "metadata": {},
   "outputs": [],
   "source": [
    "# Create a function to run a decision tree and print out the scoring metrics I've used above\n",
    "def test_tree(X_train, X_test, y_train, y_test, criterion, max_depth):\n",
    "    model = DecisionTreeClassifier(criterion=criterion, max_depth=max_depth)\n",
    "    model.fit(X_train, y_train)\n",
    "    y_pred = model.predict(X_test)\n",
    "    print('Decision Tree using {} with Max Depth = {}'.format(criterion, max_depth))\n",
    "    print('Accuracy: {:.2f}'.format(accuracy_score(y_test, y_pred)))\n",
    "    print('Precision: {:.2f}'.format(precision_score(y_test, y_pred, average='macro')))\n",
    "    print('Recall: {:.2f}'.format(recall_score(y_test, y_pred, average='macro')))\n",
    "    print('F1 Score: {:.2f}'.format(f1_score(y_test, y_pred, average='macro')))\n",
    "    return"
   ]
  },
  {
   "cell_type": "code",
   "execution_count": 16,
   "metadata": {},
   "outputs": [
    {
     "name": "stdout",
     "output_type": "stream",
     "text": [
      "Decision Tree using entropy with Max Depth = None\n",
      "Accuracy: 0.49\n",
      "Precision: 0.42\n",
      "Recall: 0.44\n",
      "F1 Score: 0.43\n",
      "Decision Tree using gini with Max Depth = None\n",
      "Accuracy: 0.49\n",
      "Precision: 0.42\n",
      "Recall: 0.43\n",
      "F1 Score: 0.43\n",
      "Decision Tree using entropy with Max Depth = 5\n",
      "Accuracy: 0.56\n",
      "Precision: 0.70\n",
      "Recall: 0.42\n",
      "F1 Score: 0.46\n",
      "Decision Tree using gini with Max Depth = 5\n",
      "Accuracy: 0.55\n",
      "Precision: 0.66\n",
      "Recall: 0.43\n",
      "F1 Score: 0.47\n",
      "Decision Tree using entropy with Max Depth = 7\n",
      "Accuracy: 0.56\n",
      "Precision: 0.67\n",
      "Recall: 0.44\n",
      "F1 Score: 0.48\n",
      "Decision Tree using gini with Max Depth = 7\n",
      "Accuracy: 0.56\n",
      "Precision: 0.67\n",
      "Recall: 0.44\n",
      "F1 Score: 0.48\n",
      "Decision Tree using entropy with Max Depth = 9\n",
      "Accuracy: 0.57\n",
      "Precision: 0.65\n",
      "Recall: 0.44\n",
      "F1 Score: 0.49\n",
      "Decision Tree using gini with Max Depth = 9\n",
      "Accuracy: 0.57\n",
      "Precision: 0.65\n",
      "Recall: 0.44\n",
      "F1 Score: 0.48\n"
     ]
    }
   ],
   "source": [
    "# Try several different tree options\n",
    "depths = [None, 5, 7, 9]\n",
    "criterions = ['entropy', 'gini']\n",
    "\n",
    "for i in depths:\n",
    "    for j in criterions:\n",
    "        test_tree(X_train, X_test, y_train, y_test, j, i)"
   ]
  },
  {
   "cell_type": "markdown",
   "metadata": {},
   "source": [
    "So the Decision tree seems like a better option than KNN, but still not very good. \n",
    "\n",
    "I'll try one more algorithm type before I go back to engineer some additional features that might help performance."
   ]
  },
  {
   "cell_type": "markdown",
   "metadata": {},
   "source": [
    "# Model 3: Random Forest\n",
    "\n",
    "Last algorithm type I'll explore. Again, I'll start with just the default algorithm before seeing how some tweaks impact it."
   ]
  },
  {
   "cell_type": "code",
   "execution_count": 17,
   "metadata": {},
   "outputs": [
    {
     "name": "stdout",
     "output_type": "stream",
     "text": [
      "Accuracy: 0.52\n",
      "Precision: 0.48\n",
      "Recall: 0.44\n",
      "F1 Score: 0.46\n"
     ]
    }
   ],
   "source": [
    "from sklearn.ensemble import RandomForestClassifier\n",
    "rfc = RandomForestClassifier()\n",
    "model_3 = rfc.fit(X_train, y_train)\n",
    "y_pred = model_3.predict(X_test)\n",
    "\n",
    "print('Accuracy: {:.2f}'.format(accuracy_score(y_test, y_pred)))\n",
    "print('Precision: {:.2f}'.format(precision_score(y_test, y_pred, average='macro')))\n",
    "print('Recall: {:.2f}'.format(recall_score(y_test, y_pred, average='macro')))\n",
    "print('F1 Score: {:.2f}'.format(f1_score(y_test, y_pred, average='macro')))"
   ]
  },
  {
   "cell_type": "markdown",
   "metadata": {},
   "source": [
    "The \"base\" version of this algorithm is actually the best so far (albeit by very slim margins). Again, the overall performance is still not great, meaning we likely need to bring in some additional features.\n",
    "\n",
    "I'll move on to that in my next notebook. \n",
    "\n",
    "The last thing I want to do here is look at the feature importance, out of curio"
   ]
  },
  {
   "cell_type": "code",
   "execution_count": 18,
   "metadata": {},
   "outputs": [
    {
     "name": "stdout",
     "output_type": "stream",
     "text": [
      "4\n"
     ]
    },
    {
     "data": {
      "image/png": "[encoded data removed]",
      "text/plain": [
       "<Figure size 720x720 with 1 Axes>"
      ]
     },
     "metadata": {
      "needs_background": "light"
     },
     "output_type": "display_data"
    }
   ],
   "source": [
    "feature_importance = rfc.feature_importances_\n",
    "# make importances relative to max importance\n",
    "feature_importance = 100.0 * (feature_importance / feature_importance.max())[:30]\n",
    "sorted_idx = np.argsort(feature_importance)[:30]\n",
    "\n",
    "pos = np.arange(sorted_idx.shape[0]) + .5\n",
    "print(pos.size)\n",
    "sorted_idx.size\n",
    "plt.figure(figsize=(10,10))\n",
    "plt.barh(pos, feature_importance[sorted_idx], align='center')\n",
    "plt.yticks(pos, data.drop('rating',axis=1).columns[sorted_idx])\n",
    "plt.xlabel('Relative Importance')\n",
    "plt.title('Variable Importance')\n",
    "plt.show()"
   ]
  },
  {
   "cell_type": "code",
   "execution_count": null,
   "metadata": {},
   "outputs": [],
   "source": []
  }
 ],
 "metadata": {
  "kernelspec": {
   "display_name": "Python 3",
   "language": "python",
   "name": "python3"
  },
  "language_info": {
   "codemirror_mode": {
    "name": "ipython",
    "version": 3
   },
   "file_extension": ".py",
   "mimetype": "text/x-python",
   "name": "python",
   "nbconvert_exporter": "python",
   "pygments_lexer": "ipython3",
   "version": "3.7.6"
  }
 },
 "nbformat": 4,
 "nbformat_minor": 4
}
