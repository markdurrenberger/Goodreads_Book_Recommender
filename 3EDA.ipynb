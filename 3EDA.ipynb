{
 "cells": [
  {
   "cell_type": "code",
   "execution_count": 2,
   "metadata": {},
   "outputs": [],
   "source": [
    "import pandas as pd\n",
    "import numpy as np\n",
    "import matplotlib.pyplot as plt\n",
    "import seaborn as sns"
   ]
  },
  {
   "cell_type": "code",
   "execution_count": 3,
   "metadata": {},
   "outputs": [
    {
     "data": {
      "text/html": [
       "<div>\n",
       "<style scoped>\n",
       "    .dataframe tbody tr th:only-of-type {\n",
       "        vertical-align: middle;\n",
       "    }\n",
       "\n",
       "    .dataframe tbody tr th {\n",
       "        vertical-align: top;\n",
       "    }\n",
       "\n",
       "    .dataframe thead th {\n",
       "        text-align: right;\n",
       "    }\n",
       "</style>\n",
       "<table border=\"1\" class=\"dataframe\">\n",
       "  <thead>\n",
       "    <tr style=\"text-align: right;\">\n",
       "      <th></th>\n",
       "      <th>book_id</th>\n",
       "      <th>text_reviews_count</th>\n",
       "      <th>average_rating</th>\n",
       "      <th>similar_books</th>\n",
       "      <th>description</th>\n",
       "      <th>authors</th>\n",
       "      <th>num_pages</th>\n",
       "      <th>publication_year</th>\n",
       "      <th>ratings_count</th>\n",
       "      <th>title</th>\n",
       "    </tr>\n",
       "  </thead>\n",
       "  <tbody>\n",
       "    <tr>\n",
       "      <th>0</th>\n",
       "      <td>13571772</td>\n",
       "      <td>5</td>\n",
       "      <td>4.28</td>\n",
       "      <td>['13590139', '105963', '207585', '10503130', '...</td>\n",
       "      <td>The questions plaguing Captain America's dream...</td>\n",
       "      <td>['37450']</td>\n",
       "      <td>146.0</td>\n",
       "      <td>2012.0</td>\n",
       "      <td>51</td>\n",
       "      <td>Captain America: Winter Soldier (The Ultimate ...</td>\n",
       "    </tr>\n",
       "    <tr>\n",
       "      <th>1</th>\n",
       "      <td>35452242</td>\n",
       "      <td>1</td>\n",
       "      <td>4.05</td>\n",
       "      <td>[]</td>\n",
       "      <td>The fight for Jason Delgado's life and soul be...</td>\n",
       "      <td>['16209952', '853385']</td>\n",
       "      <td>NaN</td>\n",
       "      <td>NaN</td>\n",
       "      <td>6</td>\n",
       "      <td>Bounty Hunter 4/3: My Life in Combat from Mari...</td>\n",
       "    </tr>\n",
       "    <tr>\n",
       "      <th>2</th>\n",
       "      <td>707611</td>\n",
       "      <td>6</td>\n",
       "      <td>4.06</td>\n",
       "      <td>[]</td>\n",
       "      <td>These are the stories that catapulted Superman...</td>\n",
       "      <td>['81563', '89537']</td>\n",
       "      <td>272.0</td>\n",
       "      <td>1997.0</td>\n",
       "      <td>51</td>\n",
       "      <td>Superman Archives, Vol. 2</td>\n",
       "    </tr>\n",
       "    <tr>\n",
       "      <th>3</th>\n",
       "      <td>27036536</td>\n",
       "      <td>9</td>\n",
       "      <td>4.15</td>\n",
       "      <td>[]</td>\n",
       "      <td>PRODUCT DESCRIPTION: The first new volume of G...</td>\n",
       "      <td>['14965', '3188368', '131836', '7507599']</td>\n",
       "      <td>224.0</td>\n",
       "      <td>2016.0</td>\n",
       "      <td>39</td>\n",
       "      <td>War Stories, Volume 3</td>\n",
       "    </tr>\n",
       "    <tr>\n",
       "      <th>4</th>\n",
       "      <td>11827783</td>\n",
       "      <td>26</td>\n",
       "      <td>3.16</td>\n",
       "      <td>['6651573', '8835785', '15060759', '9466897', ...</td>\n",
       "      <td>Sir Arthur Conan Doyle's dauntless detective r...</td>\n",
       "      <td>['61231', '4980321']</td>\n",
       "      <td>144.0</td>\n",
       "      <td>2011.0</td>\n",
       "      <td>114</td>\n",
       "      <td>Sherlock Holmes: Year One</td>\n",
       "    </tr>\n",
       "  </tbody>\n",
       "</table>\n",
       "</div>"
      ],
      "text/plain": [
       "    book_id  text_reviews_count  average_rating  \\\n",
       "0  13571772                   5            4.28   \n",
       "1  35452242                   1            4.05   \n",
       "2    707611                   6            4.06   \n",
       "3  27036536                   9            4.15   \n",
       "4  11827783                  26            3.16   \n",
       "\n",
       "                                       similar_books  \\\n",
       "0  ['13590139', '105963', '207585', '10503130', '...   \n",
       "1                                                 []   \n",
       "2                                                 []   \n",
       "3                                                 []   \n",
       "4  ['6651573', '8835785', '15060759', '9466897', ...   \n",
       "\n",
       "                                         description  \\\n",
       "0  The questions plaguing Captain America's dream...   \n",
       "1  The fight for Jason Delgado's life and soul be...   \n",
       "2  These are the stories that catapulted Superman...   \n",
       "3  PRODUCT DESCRIPTION: The first new volume of G...   \n",
       "4  Sir Arthur Conan Doyle's dauntless detective r...   \n",
       "\n",
       "                                     authors  num_pages  publication_year  \\\n",
       "0                                  ['37450']      146.0            2012.0   \n",
       "1                     ['16209952', '853385']        NaN               NaN   \n",
       "2                         ['81563', '89537']      272.0            1997.0   \n",
       "3  ['14965', '3188368', '131836', '7507599']      224.0            2016.0   \n",
       "4                       ['61231', '4980321']      144.0            2011.0   \n",
       "\n",
       "   ratings_count                                              title  \n",
       "0             51  Captain America: Winter Soldier (The Ultimate ...  \n",
       "1              6  Bounty Hunter 4/3: My Life in Combat from Mari...  \n",
       "2             51                          Superman Archives, Vol. 2  \n",
       "3             39                              War Stories, Volume 3  \n",
       "4            114                          Sherlock Holmes: Year One  "
      ]
     },
     "execution_count": 3,
     "metadata": {},
     "output_type": "execute_result"
    }
   ],
   "source": [
    "# Load books dataframe\n",
    "books = pd.read_csv('data/books_comics_cleaned.csv')\n",
    "books.head()"
   ]
  },
  {
   "cell_type": "code",
   "execution_count": 4,
   "metadata": {},
   "outputs": [
    {
     "data": {
      "text/html": [
       "<div>\n",
       "<style scoped>\n",
       "    .dataframe tbody tr th:only-of-type {\n",
       "        vertical-align: middle;\n",
       "    }\n",
       "\n",
       "    .dataframe tbody tr th {\n",
       "        vertical-align: top;\n",
       "    }\n",
       "\n",
       "    .dataframe thead th {\n",
       "        text-align: right;\n",
       "    }\n",
       "</style>\n",
       "<table border=\"1\" class=\"dataframe\">\n",
       "  <thead>\n",
       "    <tr style=\"text-align: right;\">\n",
       "      <th></th>\n",
       "      <th>count</th>\n",
       "      <th>mean</th>\n",
       "      <th>std</th>\n",
       "      <th>min</th>\n",
       "      <th>25%</th>\n",
       "      <th>50%</th>\n",
       "      <th>75%</th>\n",
       "      <th>max</th>\n",
       "    </tr>\n",
       "  </thead>\n",
       "  <tbody>\n",
       "    <tr>\n",
       "      <th>book_id</th>\n",
       "      <td>33925.0</td>\n",
       "      <td>1.599940e+07</td>\n",
       "      <td>1.088337e+07</td>\n",
       "      <td>450.0</td>\n",
       "      <td>6250655.00</td>\n",
       "      <td>17670038.00</td>\n",
       "      <td>25428695.00</td>\n",
       "      <td>36494299.0</td>\n",
       "    </tr>\n",
       "    <tr>\n",
       "      <th>text_reviews_count</th>\n",
       "      <td>33925.0</td>\n",
       "      <td>3.833067e+01</td>\n",
       "      <td>1.882732e+02</td>\n",
       "      <td>0.0</td>\n",
       "      <td>3.00</td>\n",
       "      <td>8.00</td>\n",
       "      <td>23.00</td>\n",
       "      <td>10057.0</td>\n",
       "    </tr>\n",
       "    <tr>\n",
       "      <th>average_rating</th>\n",
       "      <td>33925.0</td>\n",
       "      <td>3.915122e+00</td>\n",
       "      <td>4.140706e-01</td>\n",
       "      <td>0.0</td>\n",
       "      <td>3.67</td>\n",
       "      <td>3.97</td>\n",
       "      <td>4.22</td>\n",
       "      <td>5.0</td>\n",
       "    </tr>\n",
       "    <tr>\n",
       "      <th>num_pages</th>\n",
       "      <td>25461.0</td>\n",
       "      <td>1.731259e+02</td>\n",
       "      <td>1.657700e+02</td>\n",
       "      <td>0.0</td>\n",
       "      <td>100.00</td>\n",
       "      <td>160.00</td>\n",
       "      <td>204.00</td>\n",
       "      <td>8124.0</td>\n",
       "    </tr>\n",
       "    <tr>\n",
       "      <th>publication_year</th>\n",
       "      <td>27521.0</td>\n",
       "      <td>2.009723e+03</td>\n",
       "      <td>2.502394e+01</td>\n",
       "      <td>13.0</td>\n",
       "      <td>2008.00</td>\n",
       "      <td>2012.00</td>\n",
       "      <td>2015.00</td>\n",
       "      <td>2997.0</td>\n",
       "    </tr>\n",
       "    <tr>\n",
       "      <th>ratings_count</th>\n",
       "      <td>33925.0</td>\n",
       "      <td>7.967503e+02</td>\n",
       "      <td>5.095774e+03</td>\n",
       "      <td>0.0</td>\n",
       "      <td>25.00</td>\n",
       "      <td>82.00</td>\n",
       "      <td>319.00</td>\n",
       "      <td>406669.0</td>\n",
       "    </tr>\n",
       "  </tbody>\n",
       "</table>\n",
       "</div>"
      ],
      "text/plain": [
       "                      count          mean           std    min         25%  \\\n",
       "book_id             33925.0  1.599940e+07  1.088337e+07  450.0  6250655.00   \n",
       "text_reviews_count  33925.0  3.833067e+01  1.882732e+02    0.0        3.00   \n",
       "average_rating      33925.0  3.915122e+00  4.140706e-01    0.0        3.67   \n",
       "num_pages           25461.0  1.731259e+02  1.657700e+02    0.0      100.00   \n",
       "publication_year    27521.0  2.009723e+03  2.502394e+01   13.0     2008.00   \n",
       "ratings_count       33925.0  7.967503e+02  5.095774e+03    0.0       25.00   \n",
       "\n",
       "                            50%          75%         max  \n",
       "book_id             17670038.00  25428695.00  36494299.0  \n",
       "text_reviews_count         8.00        23.00     10057.0  \n",
       "average_rating             3.97         4.22         5.0  \n",
       "num_pages                160.00       204.00      8124.0  \n",
       "publication_year        2012.00      2015.00      2997.0  \n",
       "ratings_count             82.00       319.00    406669.0  "
      ]
     },
     "metadata": {},
     "output_type": "display_data"
    }
   ],
   "source": [
    "display(books.describe().T)"
   ]
  },
  {
   "cell_type": "code",
   "execution_count": 5,
   "metadata": {},
   "outputs": [],
   "source": [
    "books['count_similar_books'] = [len(x) for x in books['similar_books']]"
   ]
  },
  {
   "cell_type": "code",
   "execution_count": 6,
   "metadata": {},
   "outputs": [
    {
     "data": {
      "text/html": [
       "<div>\n",
       "<style scoped>\n",
       "    .dataframe tbody tr th:only-of-type {\n",
       "        vertical-align: middle;\n",
       "    }\n",
       "\n",
       "    .dataframe tbody tr th {\n",
       "        vertical-align: top;\n",
       "    }\n",
       "\n",
       "    .dataframe thead th {\n",
       "        text-align: right;\n",
       "    }\n",
       "</style>\n",
       "<table border=\"1\" class=\"dataframe\">\n",
       "  <thead>\n",
       "    <tr style=\"text-align: right;\">\n",
       "      <th></th>\n",
       "      <th>count</th>\n",
       "      <th>mean</th>\n",
       "      <th>std</th>\n",
       "      <th>min</th>\n",
       "      <th>25%</th>\n",
       "      <th>50%</th>\n",
       "      <th>75%</th>\n",
       "      <th>max</th>\n",
       "    </tr>\n",
       "  </thead>\n",
       "  <tbody>\n",
       "    <tr>\n",
       "      <th>book_id</th>\n",
       "      <td>33925.0</td>\n",
       "      <td>1.599940e+07</td>\n",
       "      <td>1.088337e+07</td>\n",
       "      <td>450.0</td>\n",
       "      <td>6250655.00</td>\n",
       "      <td>17670038.00</td>\n",
       "      <td>25428695.00</td>\n",
       "      <td>36494299.0</td>\n",
       "    </tr>\n",
       "    <tr>\n",
       "      <th>text_reviews_count</th>\n",
       "      <td>33925.0</td>\n",
       "      <td>3.833067e+01</td>\n",
       "      <td>1.882732e+02</td>\n",
       "      <td>0.0</td>\n",
       "      <td>3.00</td>\n",
       "      <td>8.00</td>\n",
       "      <td>23.00</td>\n",
       "      <td>10057.0</td>\n",
       "    </tr>\n",
       "    <tr>\n",
       "      <th>average_rating</th>\n",
       "      <td>33925.0</td>\n",
       "      <td>3.915122e+00</td>\n",
       "      <td>4.140706e-01</td>\n",
       "      <td>0.0</td>\n",
       "      <td>3.67</td>\n",
       "      <td>3.97</td>\n",
       "      <td>4.22</td>\n",
       "      <td>5.0</td>\n",
       "    </tr>\n",
       "    <tr>\n",
       "      <th>num_pages</th>\n",
       "      <td>25461.0</td>\n",
       "      <td>1.731259e+02</td>\n",
       "      <td>1.657700e+02</td>\n",
       "      <td>0.0</td>\n",
       "      <td>100.00</td>\n",
       "      <td>160.00</td>\n",
       "      <td>204.00</td>\n",
       "      <td>8124.0</td>\n",
       "    </tr>\n",
       "    <tr>\n",
       "      <th>publication_year</th>\n",
       "      <td>27521.0</td>\n",
       "      <td>2.009723e+03</td>\n",
       "      <td>2.502394e+01</td>\n",
       "      <td>13.0</td>\n",
       "      <td>2008.00</td>\n",
       "      <td>2012.00</td>\n",
       "      <td>2015.00</td>\n",
       "      <td>2997.0</td>\n",
       "    </tr>\n",
       "    <tr>\n",
       "      <th>ratings_count</th>\n",
       "      <td>33925.0</td>\n",
       "      <td>7.967503e+02</td>\n",
       "      <td>5.095774e+03</td>\n",
       "      <td>0.0</td>\n",
       "      <td>25.00</td>\n",
       "      <td>82.00</td>\n",
       "      <td>319.00</td>\n",
       "      <td>406669.0</td>\n",
       "    </tr>\n",
       "    <tr>\n",
       "      <th>count_similar_books</th>\n",
       "      <td>33925.0</td>\n",
       "      <td>6.512183e+01</td>\n",
       "      <td>7.514805e+01</td>\n",
       "      <td>2.0</td>\n",
       "      <td>2.00</td>\n",
       "      <td>2.00</td>\n",
       "      <td>132.00</td>\n",
       "      <td>216.0</td>\n",
       "    </tr>\n",
       "  </tbody>\n",
       "</table>\n",
       "</div>"
      ],
      "text/plain": [
       "                       count          mean           std    min         25%  \\\n",
       "book_id              33925.0  1.599940e+07  1.088337e+07  450.0  6250655.00   \n",
       "text_reviews_count   33925.0  3.833067e+01  1.882732e+02    0.0        3.00   \n",
       "average_rating       33925.0  3.915122e+00  4.140706e-01    0.0        3.67   \n",
       "num_pages            25461.0  1.731259e+02  1.657700e+02    0.0      100.00   \n",
       "publication_year     27521.0  2.009723e+03  2.502394e+01   13.0     2008.00   \n",
       "ratings_count        33925.0  7.967503e+02  5.095774e+03    0.0       25.00   \n",
       "count_similar_books  33925.0  6.512183e+01  7.514805e+01    2.0        2.00   \n",
       "\n",
       "                             50%          75%         max  \n",
       "book_id              17670038.00  25428695.00  36494299.0  \n",
       "text_reviews_count          8.00        23.00     10057.0  \n",
       "average_rating              3.97         4.22         5.0  \n",
       "num_pages                 160.00       204.00      8124.0  \n",
       "publication_year         2012.00      2015.00      2997.0  \n",
       "ratings_count              82.00       319.00    406669.0  \n",
       "count_similar_books         2.00       132.00       216.0  "
      ]
     },
     "metadata": {},
     "output_type": "display_data"
    }
   ],
   "source": [
    "display(books.describe().T)"
   ]
  },
  {
   "cell_type": "code",
   "execution_count": 7,
   "metadata": {},
   "outputs": [],
   "source": [
    "# What % of num_pages are non-null?\n",
    "books.num_pages.count()/len(books.num_pages)\n",
    "\n",
    "# It's likely the num_pages isn't too significant, but will fill with median to see if should stay\n",
    "books['num_pages'].fillna(books['num_pages'].median(), inplace=True)\n",
    "\n",
    "# Fix data type\n",
    "books['num_pages']= books['num_pages'].astype(int)"
   ]
  },
  {
   "cell_type": "code",
   "execution_count": 8,
   "metadata": {},
   "outputs": [
    {
     "data": {
      "text/html": [
       "<div>\n",
       "<style scoped>\n",
       "    .dataframe tbody tr th:only-of-type {\n",
       "        vertical-align: middle;\n",
       "    }\n",
       "\n",
       "    .dataframe tbody tr th {\n",
       "        vertical-align: top;\n",
       "    }\n",
       "\n",
       "    .dataframe thead th {\n",
       "        text-align: right;\n",
       "    }\n",
       "</style>\n",
       "<table border=\"1\" class=\"dataframe\">\n",
       "  <thead>\n",
       "    <tr style=\"text-align: right;\">\n",
       "      <th></th>\n",
       "      <th>book_id</th>\n",
       "      <th>text_reviews_count</th>\n",
       "      <th>average_rating</th>\n",
       "      <th>similar_books</th>\n",
       "      <th>description</th>\n",
       "      <th>authors</th>\n",
       "      <th>num_pages</th>\n",
       "      <th>publication_year</th>\n",
       "      <th>ratings_count</th>\n",
       "      <th>title</th>\n",
       "      <th>count_similar_books</th>\n",
       "    </tr>\n",
       "  </thead>\n",
       "  <tbody>\n",
       "    <tr>\n",
       "      <th>27106</th>\n",
       "      <td>1740329</td>\n",
       "      <td>5</td>\n",
       "      <td>4.25</td>\n",
       "      <td>['106069', '22374', '96358', '95406', '107032'...</td>\n",
       "      <td>This masterpiece of modern comics storytelling...</td>\n",
       "      <td>['15085', '12740', '29578']</td>\n",
       "      <td>160</td>\n",
       "      <td>2997.0</td>\n",
       "      <td>33</td>\n",
       "      <td>Batman: The Dark Knight Returns</td>\n",
       "      <td>125</td>\n",
       "    </tr>\n",
       "  </tbody>\n",
       "</table>\n",
       "</div>"
      ],
      "text/plain": [
       "       book_id  text_reviews_count  average_rating  \\\n",
       "27106  1740329                   5            4.25   \n",
       "\n",
       "                                           similar_books  \\\n",
       "27106  ['106069', '22374', '96358', '95406', '107032'...   \n",
       "\n",
       "                                             description  \\\n",
       "27106  This masterpiece of modern comics storytelling...   \n",
       "\n",
       "                           authors  num_pages  publication_year  \\\n",
       "27106  ['15085', '12740', '29578']        160            2997.0   \n",
       "\n",
       "       ratings_count                            title  count_similar_books  \n",
       "27106             33  Batman: The Dark Knight Returns                  125  "
      ]
     },
     "metadata": {},
     "output_type": "display_data"
    },
    {
     "data": {
      "text/html": [
       "<div>\n",
       "<style scoped>\n",
       "    .dataframe tbody tr th:only-of-type {\n",
       "        vertical-align: middle;\n",
       "    }\n",
       "\n",
       "    .dataframe tbody tr th {\n",
       "        vertical-align: top;\n",
       "    }\n",
       "\n",
       "    .dataframe thead th {\n",
       "        text-align: right;\n",
       "    }\n",
       "</style>\n",
       "<table border=\"1\" class=\"dataframe\">\n",
       "  <thead>\n",
       "    <tr style=\"text-align: right;\">\n",
       "      <th></th>\n",
       "      <th>book_id</th>\n",
       "      <th>text_reviews_count</th>\n",
       "      <th>average_rating</th>\n",
       "      <th>similar_books</th>\n",
       "      <th>description</th>\n",
       "      <th>authors</th>\n",
       "      <th>num_pages</th>\n",
       "      <th>publication_year</th>\n",
       "      <th>ratings_count</th>\n",
       "      <th>title</th>\n",
       "      <th>count_similar_books</th>\n",
       "    </tr>\n",
       "  </thead>\n",
       "  <tbody>\n",
       "    <tr>\n",
       "      <th>13619</th>\n",
       "      <td>18279387</td>\n",
       "      <td>28</td>\n",
       "      <td>2.11</td>\n",
       "      <td>[]</td>\n",
       "      <td>Manga</td>\n",
       "      <td>['3979033', '6643355']</td>\n",
       "      <td>156</td>\n",
       "      <td>13.0</td>\n",
       "      <td>56</td>\n",
       "      <td>One is Enough</td>\n",
       "      <td>2</td>\n",
       "    </tr>\n",
       "  </tbody>\n",
       "</table>\n",
       "</div>"
      ],
      "text/plain": [
       "        book_id  text_reviews_count  average_rating similar_books description  \\\n",
       "13619  18279387                  28            2.11            []       Manga   \n",
       "\n",
       "                      authors  num_pages  publication_year  ratings_count  \\\n",
       "13619  ['3979033', '6643355']        156              13.0             56   \n",
       "\n",
       "               title  count_similar_books  \n",
       "13619  One is Enough                    2  "
      ]
     },
     "metadata": {},
     "output_type": "display_data"
    }
   ],
   "source": [
    "# Why is there a 2997 year & a 13?\n",
    "display(books[books['publication_year']==2997])\n",
    "display(books[books['publication_year']==13])"
   ]
  },
  {
   "cell_type": "code",
   "execution_count": 9,
   "metadata": {},
   "outputs": [
    {
     "data": {
      "text/plain": [
       "<matplotlib.axes._subplots.AxesSubplot at 0x2481542cb08>"
      ]
     },
     "execution_count": 9,
     "metadata": {},
     "output_type": "execute_result"
    },
    {
     "data": {
      "image/png": "[encoded data removed]",
      "text/plain": [
       "<Figure size 432x288 with 1 Axes>"
      ]
     },
     "metadata": {
      "needs_background": "light"
     },
     "output_type": "display_data"
    }
   ],
   "source": [
    "# Examine spread of publication years visually\n",
    "sns.countplot(x='publication_year', data=books)"
   ]
  },
  {
   "cell_type": "code",
   "execution_count": 10,
   "metadata": {},
   "outputs": [
    {
     "name": "stdout",
     "output_type": "stream",
     "text": [
      "<class 'pandas.core.frame.DataFrame'>\n",
      "Int64Index: 24 entries, 193 to 30984\n",
      "Data columns (total 11 columns):\n",
      " #   Column               Non-Null Count  Dtype  \n",
      "---  ------               --------------  -----  \n",
      " 0   book_id              24 non-null     int64  \n",
      " 1   text_reviews_count   24 non-null     int64  \n",
      " 2   average_rating       24 non-null     float64\n",
      " 3   similar_books        24 non-null     object \n",
      " 4   description          18 non-null     object \n",
      " 5   authors              24 non-null     object \n",
      " 6   num_pages            24 non-null     int32  \n",
      " 7   publication_year     24 non-null     float64\n",
      " 8   ratings_count        24 non-null     int64  \n",
      " 9   title                24 non-null     object \n",
      " 10  count_similar_books  24 non-null     int64  \n",
      "dtypes: float64(2), int32(1), int64(4), object(4)\n",
      "memory usage: 2.2+ KB\n"
     ]
    }
   ],
   "source": [
    "# Filter for anything before 1950 or later than 2020\n",
    "year_mask = (books.publication_year < 1950) | (books.publication_year > 2020)\n",
    "outliers = books[year_mask]\n",
    "outliers.info()"
   ]
  },
  {
   "cell_type": "code",
   "execution_count": 11,
   "metadata": {},
   "outputs": [
    {
     "data": {
      "image/png": "[encoded data removed]",
      "text/plain": [
       "<Figure size 432x288 with 1 Axes>"
      ]
     },
     "metadata": {
      "needs_background": "light"
     },
     "output_type": "display_data"
    }
   ],
   "source": [
    "# Let's see where these are\n",
    "sns.countplot(x='publication_year', data=outliers)\n",
    "plt.xticks(rotation=90)\n",
    "plt.tight_layout()"
   ]
  },
  {
   "cell_type": "markdown",
   "metadata": {},
   "source": [
    "I'm going to assume 2997 is a typo and meant to be 1997 - a quick Google search shows there is indeed a 1997 comic by this name.\n",
    "\n",
    "The 2105 is most likely meant to be 2015.\n",
    "\n",
    "For the years in the 30s and 40s, that seems appropriate. There would have been comics available then.\n",
    "\n",
    "The other early ones will replace with the median."
   ]
  },
  {
   "cell_type": "code",
   "execution_count": 12,
   "metadata": {},
   "outputs": [
    {
     "data": {
      "text/html": [
       "<div>\n",
       "<style scoped>\n",
       "    .dataframe tbody tr th:only-of-type {\n",
       "        vertical-align: middle;\n",
       "    }\n",
       "\n",
       "    .dataframe tbody tr th {\n",
       "        vertical-align: top;\n",
       "    }\n",
       "\n",
       "    .dataframe thead th {\n",
       "        text-align: right;\n",
       "    }\n",
       "</style>\n",
       "<table border=\"1\" class=\"dataframe\">\n",
       "  <thead>\n",
       "    <tr style=\"text-align: right;\">\n",
       "      <th></th>\n",
       "      <th>book_id</th>\n",
       "      <th>text_reviews_count</th>\n",
       "      <th>average_rating</th>\n",
       "      <th>similar_books</th>\n",
       "      <th>description</th>\n",
       "      <th>authors</th>\n",
       "      <th>num_pages</th>\n",
       "      <th>publication_year</th>\n",
       "      <th>ratings_count</th>\n",
       "      <th>title</th>\n",
       "      <th>count_similar_books</th>\n",
       "    </tr>\n",
       "  </thead>\n",
       "  <tbody>\n",
       "    <tr>\n",
       "      <th>22832</th>\n",
       "      <td>26514764</td>\n",
       "      <td>3</td>\n",
       "      <td>3.82</td>\n",
       "      <td>[]</td>\n",
       "      <td>Based on the true story of the world's most fa...</td>\n",
       "      <td>['14339651', '452017', '14339652']</td>\n",
       "      <td>160</td>\n",
       "      <td>2105.0</td>\n",
       "      <td>22</td>\n",
       "      <td>Executive Outcomes</td>\n",
       "      <td>2</td>\n",
       "    </tr>\n",
       "  </tbody>\n",
       "</table>\n",
       "</div>"
      ],
      "text/plain": [
       "        book_id  text_reviews_count  average_rating similar_books  \\\n",
       "22832  26514764                   3            3.82            []   \n",
       "\n",
       "                                             description  \\\n",
       "22832  Based on the true story of the world's most fa...   \n",
       "\n",
       "                                  authors  num_pages  publication_year  \\\n",
       "22832  ['14339651', '452017', '14339652']        160            2105.0   \n",
       "\n",
       "       ratings_count               title  count_similar_books  \n",
       "22832             22  Executive Outcomes                    2  "
      ]
     },
     "metadata": {},
     "output_type": "display_data"
    }
   ],
   "source": [
    "# Confirm 2105 hunch and replace\n",
    "display(books[books['publication_year']==2105])"
   ]
  },
  {
   "cell_type": "code",
   "execution_count": 13,
   "metadata": {},
   "outputs": [],
   "source": [
    "# Google search confirms that hunch - fix it\n",
    "books['publication_year'].replace(2105, 2015, inplace=True)"
   ]
  },
  {
   "cell_type": "code",
   "execution_count": 14,
   "metadata": {},
   "outputs": [
    {
     "data": {
      "text/plain": [
       "0        2012.0\n",
       "1           NaN\n",
       "2        1997.0\n",
       "3        2016.0\n",
       "4        2011.0\n",
       "          ...  \n",
       "33920    2016.0\n",
       "33921    2008.0\n",
       "33922    2011.0\n",
       "33923    2016.0\n",
       "33924    2014.0\n",
       "Name: publication_year, Length: 33925, dtype: float64"
      ]
     },
     "execution_count": 14,
     "metadata": {},
     "output_type": "execute_result"
    }
   ],
   "source": [
    "# Fix 2997 year\n",
    "books['publication_year'].replace(2997, 1997, inplace=True)\n",
    "\n",
    "# Replace the very early years with NaN\n",
    "books['publication_year'].replace([13,201, 207, 1016], np.nan)"
   ]
  },
  {
   "cell_type": "code",
   "execution_count": 15,
   "metadata": {},
   "outputs": [],
   "source": [
    "# Replace missing values with median year\n",
    "books['publication_year'].fillna(books['publication_year'].median(), inplace=True)\n",
    "\n",
    "# Fix numeric data type\n",
    "books['publication_year'] = books['publication_year'].astype(int)"
   ]
  },
  {
   "cell_type": "markdown",
   "metadata": {},
   "source": [
    "NOTE TO SELF - should probably move the above to the \"Data Wrangling\" notebook"
   ]
  },
  {
   "cell_type": "code",
   "execution_count": 16,
   "metadata": {},
   "outputs": [
    {
     "data": {
      "text/html": [
       "<div>\n",
       "<style scoped>\n",
       "    .dataframe tbody tr th:only-of-type {\n",
       "        vertical-align: middle;\n",
       "    }\n",
       "\n",
       "    .dataframe tbody tr th {\n",
       "        vertical-align: top;\n",
       "    }\n",
       "\n",
       "    .dataframe thead th {\n",
       "        text-align: right;\n",
       "    }\n",
       "</style>\n",
       "<table border=\"1\" class=\"dataframe\">\n",
       "  <thead>\n",
       "    <tr style=\"text-align: right;\">\n",
       "      <th></th>\n",
       "      <th>count</th>\n",
       "      <th>mean</th>\n",
       "      <th>std</th>\n",
       "      <th>min</th>\n",
       "      <th>25%</th>\n",
       "      <th>50%</th>\n",
       "      <th>75%</th>\n",
       "      <th>max</th>\n",
       "    </tr>\n",
       "  </thead>\n",
       "  <tbody>\n",
       "    <tr>\n",
       "      <th>book_id</th>\n",
       "      <td>33925.0</td>\n",
       "      <td>1.599940e+07</td>\n",
       "      <td>1.088337e+07</td>\n",
       "      <td>450.0</td>\n",
       "      <td>6250655.00</td>\n",
       "      <td>17670038.00</td>\n",
       "      <td>25428695.00</td>\n",
       "      <td>36494299.0</td>\n",
       "    </tr>\n",
       "    <tr>\n",
       "      <th>text_reviews_count</th>\n",
       "      <td>33925.0</td>\n",
       "      <td>3.833067e+01</td>\n",
       "      <td>1.882732e+02</td>\n",
       "      <td>0.0</td>\n",
       "      <td>3.00</td>\n",
       "      <td>8.00</td>\n",
       "      <td>23.00</td>\n",
       "      <td>10057.0</td>\n",
       "    </tr>\n",
       "    <tr>\n",
       "      <th>average_rating</th>\n",
       "      <td>33925.0</td>\n",
       "      <td>3.915122e+00</td>\n",
       "      <td>4.140706e-01</td>\n",
       "      <td>0.0</td>\n",
       "      <td>3.67</td>\n",
       "      <td>3.97</td>\n",
       "      <td>4.22</td>\n",
       "      <td>5.0</td>\n",
       "    </tr>\n",
       "    <tr>\n",
       "      <th>num_pages</th>\n",
       "      <td>33925.0</td>\n",
       "      <td>1.698511e+02</td>\n",
       "      <td>1.437212e+02</td>\n",
       "      <td>0.0</td>\n",
       "      <td>128.00</td>\n",
       "      <td>160.00</td>\n",
       "      <td>192.00</td>\n",
       "      <td>8124.0</td>\n",
       "    </tr>\n",
       "    <tr>\n",
       "      <th>publication_year</th>\n",
       "      <td>33925.0</td>\n",
       "      <td>2.010121e+03</td>\n",
       "      <td>2.190464e+01</td>\n",
       "      <td>13.0</td>\n",
       "      <td>2009.00</td>\n",
       "      <td>2012.00</td>\n",
       "      <td>2014.00</td>\n",
       "      <td>2020.0</td>\n",
       "    </tr>\n",
       "    <tr>\n",
       "      <th>ratings_count</th>\n",
       "      <td>33925.0</td>\n",
       "      <td>7.967503e+02</td>\n",
       "      <td>5.095774e+03</td>\n",
       "      <td>0.0</td>\n",
       "      <td>25.00</td>\n",
       "      <td>82.00</td>\n",
       "      <td>319.00</td>\n",
       "      <td>406669.0</td>\n",
       "    </tr>\n",
       "    <tr>\n",
       "      <th>count_similar_books</th>\n",
       "      <td>33925.0</td>\n",
       "      <td>6.512183e+01</td>\n",
       "      <td>7.514805e+01</td>\n",
       "      <td>2.0</td>\n",
       "      <td>2.00</td>\n",
       "      <td>2.00</td>\n",
       "      <td>132.00</td>\n",
       "      <td>216.0</td>\n",
       "    </tr>\n",
       "  </tbody>\n",
       "</table>\n",
       "</div>"
      ],
      "text/plain": [
       "                       count          mean           std    min         25%  \\\n",
       "book_id              33925.0  1.599940e+07  1.088337e+07  450.0  6250655.00   \n",
       "text_reviews_count   33925.0  3.833067e+01  1.882732e+02    0.0        3.00   \n",
       "average_rating       33925.0  3.915122e+00  4.140706e-01    0.0        3.67   \n",
       "num_pages            33925.0  1.698511e+02  1.437212e+02    0.0      128.00   \n",
       "publication_year     33925.0  2.010121e+03  2.190464e+01   13.0     2009.00   \n",
       "ratings_count        33925.0  7.967503e+02  5.095774e+03    0.0       25.00   \n",
       "count_similar_books  33925.0  6.512183e+01  7.514805e+01    2.0        2.00   \n",
       "\n",
       "                             50%          75%         max  \n",
       "book_id              17670038.00  25428695.00  36494299.0  \n",
       "text_reviews_count          8.00        23.00     10057.0  \n",
       "average_rating              3.97         4.22         5.0  \n",
       "num_pages                 160.00       192.00      8124.0  \n",
       "publication_year         2012.00      2014.00      2020.0  \n",
       "ratings_count              82.00       319.00    406669.0  \n",
       "count_similar_books         2.00       132.00       216.0  "
      ]
     },
     "metadata": {},
     "output_type": "display_data"
    }
   ],
   "source": [
    "display(books.describe().T)"
   ]
  },
  {
   "cell_type": "code",
   "execution_count": 17,
   "metadata": {},
   "outputs": [
    {
     "name": "stdout",
     "output_type": "stream",
     "text": [
      "<class 'pandas.core.frame.DataFrame'>\n",
      "RangeIndex: 33925 entries, 0 to 33924\n",
      "Data columns (total 11 columns):\n",
      " #   Column               Non-Null Count  Dtype  \n",
      "---  ------               --------------  -----  \n",
      " 0   book_id              33925 non-null  int64  \n",
      " 1   text_reviews_count   33925 non-null  int64  \n",
      " 2   average_rating       33925 non-null  float64\n",
      " 3   similar_books        33925 non-null  object \n",
      " 4   description          30460 non-null  object \n",
      " 5   authors              33925 non-null  object \n",
      " 6   num_pages            33925 non-null  int32  \n",
      " 7   publication_year     33925 non-null  int32  \n",
      " 8   ratings_count        33925 non-null  int64  \n",
      " 9   title                33925 non-null  object \n",
      " 10  count_similar_books  33925 non-null  int64  \n",
      "dtypes: float64(1), int32(2), int64(4), object(4)\n",
      "memory usage: 2.6+ MB\n"
     ]
    }
   ],
   "source": [
    "books.info()"
   ]
  },
  {
   "cell_type": "code",
   "execution_count": 18,
   "metadata": {},
   "outputs": [],
   "source": [
    "books.set_index('book_id', inplace=True)"
   ]
  },
  {
   "cell_type": "code",
   "execution_count": 19,
   "metadata": {},
   "outputs": [
    {
     "name": "stdout",
     "output_type": "stream",
     "text": [
      "<class 'pandas.core.frame.DataFrame'>\n",
      "Int64Index: 33925 entries, 13571772 to 23363286\n",
      "Data columns (total 10 columns):\n",
      " #   Column               Non-Null Count  Dtype  \n",
      "---  ------               --------------  -----  \n",
      " 0   text_reviews_count   33925 non-null  int64  \n",
      " 1   average_rating       33925 non-null  float64\n",
      " 2   similar_books        33925 non-null  object \n",
      " 3   description          30460 non-null  object \n",
      " 4   authors              33925 non-null  object \n",
      " 5   num_pages            33925 non-null  int32  \n",
      " 6   publication_year     33925 non-null  int32  \n",
      " 7   ratings_count        33925 non-null  int64  \n",
      " 8   title                33925 non-null  object \n",
      " 9   count_similar_books  33925 non-null  int64  \n",
      "dtypes: float64(1), int32(2), int64(3), object(4)\n",
      "memory usage: 2.6+ MB\n"
     ]
    }
   ],
   "source": [
    "books.info()"
   ]
  },
  {
   "cell_type": "markdown",
   "metadata": {},
   "source": [
    "# Visual EDA\n",
    "These three columns in particular it will be interesting to look at the spread:\n",
    "* number of reviews\n",
    "* number of ratings\n",
    "* average rating\n",
    "* count of similar books"
   ]
  },
  {
   "cell_type": "code",
   "execution_count": 20,
   "metadata": {},
   "outputs": [
    {
     "data": {
      "image/png": "[encoded data removed]",
      "text/plain": [
       "<Figure size 432x288 with 4 Axes>"
      ]
     },
     "metadata": {
      "needs_background": "light"
     },
     "output_type": "display_data"
    }
   ],
   "source": [
    "num_cols = ['text_reviews_count', 'average_rating', 'ratings_count', 'count_similar_books']\n",
    "books[num_cols].hist(bins=20, layout=(2,2))\n",
    "plt.tight_layout()"
   ]
  },
  {
   "cell_type": "markdown",
   "metadata": {},
   "source": [
    "It looks like ratings_count and text_reviews_count have some extreme outliers. I'll take a look at the spread with boxplots."
   ]
  },
  {
   "cell_type": "code",
   "execution_count": 21,
   "metadata": {},
   "outputs": [
    {
     "data": {
      "text/plain": [
       "<matplotlib.axes._subplots.AxesSubplot at 0x2481610ba88>"
      ]
     },
     "execution_count": 21,
     "metadata": {},
     "output_type": "execute_result"
    },
    {
     "data": {
      "image/png": "[encoded data removed]",
      "text/plain": [
       "<Figure size 720x720 with 1 Axes>"
      ]
     },
     "metadata": {
      "needs_background": "light"
     },
     "output_type": "display_data"
    }
   ],
   "source": [
    "books[num_cols].boxplot(grid=False, vert=False, fontsize=12, figsize=(10,10))"
   ]
  },
  {
   "cell_type": "markdown",
   "metadata": {},
   "source": [
    "Ratings_count of 400k+ seems pretty extreme when there are around 550k total ratings. Unless it's the most popular of all the comics. \n",
    "\n",
    "Let's see..."
   ]
  },
  {
   "cell_type": "code",
   "execution_count": 22,
   "metadata": {},
   "outputs": [
    {
     "data": {
      "text/html": [
       "<div>\n",
       "<style scoped>\n",
       "    .dataframe tbody tr th:only-of-type {\n",
       "        vertical-align: middle;\n",
       "    }\n",
       "\n",
       "    .dataframe tbody tr th {\n",
       "        vertical-align: top;\n",
       "    }\n",
       "\n",
       "    .dataframe thead th {\n",
       "        text-align: right;\n",
       "    }\n",
       "</style>\n",
       "<table border=\"1\" class=\"dataframe\">\n",
       "  <thead>\n",
       "    <tr style=\"text-align: right;\">\n",
       "      <th></th>\n",
       "      <th>text_reviews_count</th>\n",
       "      <th>average_rating</th>\n",
       "      <th>similar_books</th>\n",
       "      <th>description</th>\n",
       "      <th>authors</th>\n",
       "      <th>num_pages</th>\n",
       "      <th>publication_year</th>\n",
       "      <th>ratings_count</th>\n",
       "      <th>title</th>\n",
       "      <th>count_similar_books</th>\n",
       "    </tr>\n",
       "    <tr>\n",
       "      <th>book_id</th>\n",
       "      <th></th>\n",
       "      <th></th>\n",
       "      <th></th>\n",
       "      <th></th>\n",
       "      <th></th>\n",
       "      <th></th>\n",
       "      <th></th>\n",
       "      <th></th>\n",
       "      <th></th>\n",
       "      <th></th>\n",
       "    </tr>\n",
       "  </thead>\n",
       "  <tbody>\n",
       "    <tr>\n",
       "      <th>472331</th>\n",
       "      <td>10057</td>\n",
       "      <td>4.35</td>\n",
       "      <td>['25104', '209968', '156530', '21330', '102958...</td>\n",
       "      <td>This Hugo Award-winning graphic novel chronicl...</td>\n",
       "      <td>['3961', '13285', '106526']</td>\n",
       "      <td>416</td>\n",
       "      <td>2005</td>\n",
       "      <td>406669</td>\n",
       "      <td>Watchmen</td>\n",
       "      <td>67</td>\n",
       "    </tr>\n",
       "  </tbody>\n",
       "</table>\n",
       "</div>"
      ],
      "text/plain": [
       "         text_reviews_count  average_rating  \\\n",
       "book_id                                       \n",
       "472331                10057            4.35   \n",
       "\n",
       "                                             similar_books  \\\n",
       "book_id                                                      \n",
       "472331   ['25104', '209968', '156530', '21330', '102958...   \n",
       "\n",
       "                                               description  \\\n",
       "book_id                                                      \n",
       "472331   This Hugo Award-winning graphic novel chronicl...   \n",
       "\n",
       "                             authors  num_pages  publication_year  \\\n",
       "book_id                                                             \n",
       "472331   ['3961', '13285', '106526']        416              2005   \n",
       "\n",
       "         ratings_count     title  count_similar_books  \n",
       "book_id                                                \n",
       "472331          406669  Watchmen                   67  "
      ]
     },
     "metadata": {},
     "output_type": "display_data"
    }
   ],
   "source": [
    "display(books[books['ratings_count']==406669.0])"
   ]
  },
  {
   "cell_type": "markdown",
   "metadata": {},
   "source": [
    "This was an award-winning graphic novel that was reprinted in 2005. It is possible that a huge % of comic reviwers would have rated this one, being that it is such a classic. I will leave that value in and see how the modelling looks both with/without it."
   ]
  },
  {
   "cell_type": "code",
   "execution_count": 23,
   "metadata": {},
   "outputs": [
    {
     "data": {
      "text/plain": [
       "<seaborn.axisgrid.PairGrid at 0x248161a9748>"
      ]
     },
     "execution_count": 23,
     "metadata": {},
     "output_type": "execute_result"
    },
    {
     "data": {
      "image/png": "[encoded data removed]",
      "text/plain": [
       "<Figure size 720x720 with 20 Axes>"
      ]
     },
     "metadata": {
      "needs_background": "light"
     },
     "output_type": "display_data"
    }
   ],
   "source": [
    "sns.pairplot(books[num_cols])"
   ]
  },
  {
   "cell_type": "code",
   "execution_count": 24,
   "metadata": {},
   "outputs": [
    {
     "data": {
      "text/html": [
       "<div>\n",
       "<style scoped>\n",
       "    .dataframe tbody tr th:only-of-type {\n",
       "        vertical-align: middle;\n",
       "    }\n",
       "\n",
       "    .dataframe tbody tr th {\n",
       "        vertical-align: top;\n",
       "    }\n",
       "\n",
       "    .dataframe thead th {\n",
       "        text-align: right;\n",
       "    }\n",
       "</style>\n",
       "<table border=\"1\" class=\"dataframe\">\n",
       "  <thead>\n",
       "    <tr style=\"text-align: right;\">\n",
       "      <th></th>\n",
       "      <th>text_reviews_count</th>\n",
       "      <th>average_rating</th>\n",
       "      <th>ratings_count</th>\n",
       "      <th>count_similar_books</th>\n",
       "    </tr>\n",
       "  </thead>\n",
       "  <tbody>\n",
       "    <tr>\n",
       "      <th>text_reviews_count</th>\n",
       "      <td>1.000000</td>\n",
       "      <td>0.062531</td>\n",
       "      <td>0.757712</td>\n",
       "      <td>0.169876</td>\n",
       "    </tr>\n",
       "    <tr>\n",
       "      <th>average_rating</th>\n",
       "      <td>0.062531</td>\n",
       "      <td>1.000000</td>\n",
       "      <td>0.095271</td>\n",
       "      <td>0.081461</td>\n",
       "    </tr>\n",
       "    <tr>\n",
       "      <th>ratings_count</th>\n",
       "      <td>0.757712</td>\n",
       "      <td>0.095271</td>\n",
       "      <td>1.000000</td>\n",
       "      <td>0.087729</td>\n",
       "    </tr>\n",
       "    <tr>\n",
       "      <th>count_similar_books</th>\n",
       "      <td>0.169876</td>\n",
       "      <td>0.081461</td>\n",
       "      <td>0.087729</td>\n",
       "      <td>1.000000</td>\n",
       "    </tr>\n",
       "  </tbody>\n",
       "</table>\n",
       "</div>"
      ],
      "text/plain": [
       "                     text_reviews_count  average_rating  ratings_count  \\\n",
       "text_reviews_count             1.000000        0.062531       0.757712   \n",
       "average_rating                 0.062531        1.000000       0.095271   \n",
       "ratings_count                  0.757712        0.095271       1.000000   \n",
       "count_similar_books            0.169876        0.081461       0.087729   \n",
       "\n",
       "                     count_similar_books  \n",
       "text_reviews_count              0.169876  \n",
       "average_rating                  0.081461  \n",
       "ratings_count                   0.087729  \n",
       "count_similar_books             1.000000  "
      ]
     },
     "metadata": {},
     "output_type": "display_data"
    },
    {
     "data": {
      "text/plain": [
       "<matplotlib.axes._subplots.AxesSubplot at 0x2481600b188>"
      ]
     },
     "execution_count": 24,
     "metadata": {},
     "output_type": "execute_result"
    },
    {
     "data": {
      "image/png": "[encoded data removed]",
      "text/plain": [
       "<Figure size 432x288 with 2 Axes>"
      ]
     },
     "metadata": {
      "needs_background": "light"
     },
     "output_type": "display_data"
    }
   ],
   "source": [
    "display(books[num_cols].corr())\n",
    "sns.heatmap(books[num_cols].corr())"
   ]
  },
  {
   "cell_type": "markdown",
   "metadata": {},
   "source": [
    "The only columns that have much of any correlation are the numbers of ratings and text reviews. Correlation between those two makes sense. For now I will leave both features in, but dropping one of them is an idea to potentially improve future model performance."
   ]
  },
  {
   "cell_type": "markdown",
   "metadata": {},
   "source": [
    "## Text (and List) Features\n",
    "\n",
    "There are several text features that I'll need to extract machine learning-type features from. Also, need to think through how to incorporate the list of authors.\n",
    "\n",
    "The Authors could be turned into categorical variables and dummy variables created. \n",
    "\n",
    "For text (like title, description), can use NLP techniques to extract features.\n",
    "\n",
    "Will perform these in the next step - Preprocessing"
   ]
  },
  {
   "cell_type": "code",
   "execution_count": 42,
   "metadata": {},
   "outputs": [],
   "source": [
    "# Create step 3 output\n",
    "books.to_csv('data/books_step3_output.csv')"
   ]
  },
  {
   "cell_type": "markdown",
   "metadata": {},
   "source": [
    "# Review Data\n",
    "\n",
    "Most of the EDA to be done was on the set of books. But now I'll examine the reviews to see what, if anything, should be done here.\n",
    "\n",
    "After that I'll join the two sets on book_id so we have a tidy set of data that would be ready for modeling."
   ]
  },
  {
   "cell_type": "code",
   "execution_count": 25,
   "metadata": {},
   "outputs": [
    {
     "name": "stdout",
     "output_type": "stream",
     "text": [
      "<class 'pandas.core.frame.DataFrame'>\n",
      "RangeIndex: 542338 entries, 0 to 542337\n",
      "Data columns (total 6 columns):\n",
      " #   Column       Non-Null Count   Dtype \n",
      "---  ------       --------------   ----- \n",
      " 0   review_id    542338 non-null  object\n",
      " 1   user_id      542338 non-null  object\n",
      " 2   book_id      542338 non-null  int64 \n",
      " 3   rating       542338 non-null  int64 \n",
      " 4   review_text  542015 non-null  object\n",
      " 5   date_added   542338 non-null  object\n",
      "dtypes: int64(2), object(4)\n",
      "memory usage: 24.8+ MB\n"
     ]
    }
   ],
   "source": [
    "# Load and check reviews data\n",
    "reviews = pd.read_csv('data/reviews_comics_cleaned.csv')\n",
    "reviews.info()"
   ]
  },
  {
   "cell_type": "code",
   "execution_count": 26,
   "metadata": {},
   "outputs": [
    {
     "data": {
      "text/html": [
       "<div>\n",
       "<style scoped>\n",
       "    .dataframe tbody tr th:only-of-type {\n",
       "        vertical-align: middle;\n",
       "    }\n",
       "\n",
       "    .dataframe tbody tr th {\n",
       "        vertical-align: top;\n",
       "    }\n",
       "\n",
       "    .dataframe thead th {\n",
       "        text-align: right;\n",
       "    }\n",
       "</style>\n",
       "<table border=\"1\" class=\"dataframe\">\n",
       "  <thead>\n",
       "    <tr style=\"text-align: right;\">\n",
       "      <th></th>\n",
       "      <th>review_id</th>\n",
       "      <th>user_id</th>\n",
       "      <th>book_id</th>\n",
       "      <th>rating</th>\n",
       "      <th>review_text</th>\n",
       "      <th>date_added</th>\n",
       "    </tr>\n",
       "  </thead>\n",
       "  <tbody>\n",
       "    <tr>\n",
       "      <th>0</th>\n",
       "      <td>66b2ba840f9bd36d6d27f46136fe4772</td>\n",
       "      <td>dc3763cdb9b2cae805882878eebb6a32</td>\n",
       "      <td>18471619</td>\n",
       "      <td>3</td>\n",
       "      <td>Sherlock Holmes and the Vampires of London \\n ...</td>\n",
       "      <td>Thu Dec 05 10:44:25 -0800 2013</td>\n",
       "    </tr>\n",
       "    <tr>\n",
       "      <th>1</th>\n",
       "      <td>72f1229aba5a88f9e72f0dcdc007dd22</td>\n",
       "      <td>bafc2d50014200cda7cb2b6acd60cd73</td>\n",
       "      <td>6315584</td>\n",
       "      <td>4</td>\n",
       "      <td>I've never really liked Spider-Man. I am, howe...</td>\n",
       "      <td>Wed Aug 10 06:06:48 -0700 2016</td>\n",
       "    </tr>\n",
       "    <tr>\n",
       "      <th>2</th>\n",
       "      <td>a75309355f8662caaa5e2c92ab693d3f</td>\n",
       "      <td>bafc2d50014200cda7cb2b6acd60cd73</td>\n",
       "      <td>29847729</td>\n",
       "      <td>4</td>\n",
       "      <td>A very quick introduction, this is coming out ...</td>\n",
       "      <td>Thu Apr 21 07:44:00 -0700 2016</td>\n",
       "    </tr>\n",
       "    <tr>\n",
       "      <th>3</th>\n",
       "      <td>c3cc5a3e1d6b6c9cf1c044f306c8e752</td>\n",
       "      <td>bafc2d50014200cda7cb2b6acd60cd73</td>\n",
       "      <td>18454118</td>\n",
       "      <td>5</td>\n",
       "      <td>I've been waiting so long for this. I first st...</td>\n",
       "      <td>Mon Mar 03 17:45:56 -0800 2014</td>\n",
       "    </tr>\n",
       "    <tr>\n",
       "      <th>4</th>\n",
       "      <td>cc444be37ab0a42bfb4dd818cb5edd10</td>\n",
       "      <td>bafc2d50014200cda7cb2b6acd60cd73</td>\n",
       "      <td>2239435</td>\n",
       "      <td>4</td>\n",
       "      <td>The only thing more entertaining than this boo...</td>\n",
       "      <td>Wed Apr 03 12:37:48 -0700 2013</td>\n",
       "    </tr>\n",
       "  </tbody>\n",
       "</table>\n",
       "</div>"
      ],
      "text/plain": [
       "                          review_id                           user_id  \\\n",
       "0  66b2ba840f9bd36d6d27f46136fe4772  dc3763cdb9b2cae805882878eebb6a32   \n",
       "1  72f1229aba5a88f9e72f0dcdc007dd22  bafc2d50014200cda7cb2b6acd60cd73   \n",
       "2  a75309355f8662caaa5e2c92ab693d3f  bafc2d50014200cda7cb2b6acd60cd73   \n",
       "3  c3cc5a3e1d6b6c9cf1c044f306c8e752  bafc2d50014200cda7cb2b6acd60cd73   \n",
       "4  cc444be37ab0a42bfb4dd818cb5edd10  bafc2d50014200cda7cb2b6acd60cd73   \n",
       "\n",
       "    book_id  rating                                        review_text  \\\n",
       "0  18471619       3  Sherlock Holmes and the Vampires of London \\n ...   \n",
       "1   6315584       4  I've never really liked Spider-Man. I am, howe...   \n",
       "2  29847729       4  A very quick introduction, this is coming out ...   \n",
       "3  18454118       5  I've been waiting so long for this. I first st...   \n",
       "4   2239435       4  The only thing more entertaining than this boo...   \n",
       "\n",
       "                       date_added  \n",
       "0  Thu Dec 05 10:44:25 -0800 2013  \n",
       "1  Wed Aug 10 06:06:48 -0700 2016  \n",
       "2  Thu Apr 21 07:44:00 -0700 2016  \n",
       "3  Mon Mar 03 17:45:56 -0800 2014  \n",
       "4  Wed Apr 03 12:37:48 -0700 2013  "
      ]
     },
     "execution_count": 26,
     "metadata": {},
     "output_type": "execute_result"
    }
   ],
   "source": [
    "reviews.head()"
   ]
  },
  {
   "cell_type": "markdown",
   "metadata": {},
   "source": [
    "I'm not certain I need to keep the dates of the reviews in. I could see a recency factor influencing the model: a user's tastes/preferences may have changed.\n",
    "\n",
    "I'll explore the dates to see how widely spread they are. I'm not sure how long Goodreads has been around. If it's only a few years then can probably ignore it."
   ]
  },
  {
   "cell_type": "code",
   "execution_count": 30,
   "metadata": {},
   "outputs": [],
   "source": [
    "# Was trying to run this:\n",
    "# reviews['date_added'] = pd.to_datetime(reviews['date_added'], infer_datetime_format=True)\n",
    "# But taking forever with the large data set.\n",
    "# All I'm really interested in at this point is how widely spread the years are...will make a \n",
    "# year categorical column and use that to explore."
   ]
  },
  {
   "cell_type": "code",
   "execution_count": 34,
   "metadata": {},
   "outputs": [],
   "source": [
    "# Create a year column\n",
    "reviews['year'] = reviews['date_added'].str[-4:]"
   ]
  },
  {
   "cell_type": "code",
   "execution_count": 37,
   "metadata": {},
   "outputs": [],
   "source": [
    "reviews['year'] = reviews['year'].astype('category')"
   ]
  },
  {
   "cell_type": "code",
   "execution_count": 38,
   "metadata": {},
   "outputs": [
    {
     "data": {
      "text/plain": [
       "<matplotlib.axes._subplots.AxesSubplot at 0x24819e531c8>"
      ]
     },
     "execution_count": 38,
     "metadata": {},
     "output_type": "execute_result"
    },
    {
     "data": {
      "image/png": "[encoded data removed]",
      "text/plain": [
       "<Figure size 432x288 with 1 Axes>"
      ]
     },
     "metadata": {
      "needs_background": "light"
     },
     "output_type": "display_data"
    }
   ],
   "source": [
    "sns.countplot(reviews['year'])"
   ]
  },
  {
   "cell_type": "markdown",
   "metadata": {},
   "source": [
    "Since there are reviews spread out over a decade, I'll keep the year in for now. It may be useful. But the year suffices, no need to keep entire date."
   ]
  },
  {
   "cell_type": "code",
   "execution_count": 40,
   "metadata": {},
   "outputs": [
    {
     "name": "stdout",
     "output_type": "stream",
     "text": [
      "<class 'pandas.core.frame.DataFrame'>\n",
      "RangeIndex: 542338 entries, 0 to 542337\n",
      "Data columns (total 6 columns):\n",
      " #   Column       Non-Null Count   Dtype   \n",
      "---  ------       --------------   -----   \n",
      " 0   review_id    542338 non-null  object  \n",
      " 1   user_id      542338 non-null  object  \n",
      " 2   book_id      542338 non-null  int64   \n",
      " 3   rating       542338 non-null  int64   \n",
      " 4   review_text  542015 non-null  object  \n",
      " 5   year         542338 non-null  category\n",
      "dtypes: category(1), int64(2), object(3)\n",
      "memory usage: 21.2+ MB\n"
     ]
    }
   ],
   "source": [
    "reviews.drop('date_added', axis=1, inplace=True)\n",
    "reviews.info()"
   ]
  },
  {
   "cell_type": "markdown",
   "metadata": {},
   "source": [
    "# Text Features\n",
    "\n",
    "Just like with my books dataframe, I'll do some NLP feature extraction in the next step. For now this dataframe is good to go."
   ]
  },
  {
   "cell_type": "code",
   "execution_count": 43,
   "metadata": {},
   "outputs": [],
   "source": [
    "reviews.to_csv('data/reviews_step3_output.csv')"
   ]
  }
 ],
 "metadata": {
  "kernelspec": {
   "display_name": "Python 3",
   "language": "python",
   "name": "python3"
  },
  "language_info": {
   "codemirror_mode": {
    "name": "ipython",
    "version": 3
   },
   "file_extension": ".py",
   "mimetype": "text/x-python",
   "name": "python",
   "nbconvert_exporter": "python",
   "pygments_lexer": "ipython3",
   "version": "3.7.6"
  }
 },
 "nbformat": 4,
 "nbformat_minor": 4
}
