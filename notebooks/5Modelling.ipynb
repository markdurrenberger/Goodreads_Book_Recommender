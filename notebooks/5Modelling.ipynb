{
 "cells": [
  {
   "cell_type": "code",
   "execution_count": 1,
   "metadata": {},
   "outputs": [],
   "source": [
    "import pandas as pd\n",
    "import numpy as np\n",
    "import matplotlib.pyplot as plt"
   ]
  },
  {
   "cell_type": "code",
   "execution_count": 2,
   "metadata": {},
   "outputs": [
    {
     "data": {
      "text/html": [
       "<div>\n",
       "<style scoped>\n",
       "    .dataframe tbody tr th:only-of-type {\n",
       "        vertical-align: middle;\n",
       "    }\n",
       "\n",
       "    .dataframe tbody tr th {\n",
       "        vertical-align: top;\n",
       "    }\n",
       "\n",
       "    .dataframe thead th {\n",
       "        text-align: right;\n",
       "    }\n",
       "</style>\n",
       "<table border=\"1\" class=\"dataframe\">\n",
       "  <thead>\n",
       "    <tr style=\"text-align: right;\">\n",
       "      <th></th>\n",
       "      <th></th>\n",
       "      <th>rating</th>\n",
       "      <th>book_cluster</th>\n",
       "      <th>avg_rating_by_cluster</th>\n",
       "      <th>average_rating</th>\n",
       "      <th>num_pages</th>\n",
       "      <th>publication_year</th>\n",
       "      <th>ratings_count</th>\n",
       "      <th>cluster</th>\n",
       "      <th>most_similar_book_avg_rtg</th>\n",
       "      <th>2nd_similar_book_avg_rtg</th>\n",
       "      <th>3rd_similar_book_avg_rtg</th>\n",
       "      <th>review_sentiment_negative</th>\n",
       "      <th>review_sentiment_neutral</th>\n",
       "      <th>review_sentiment_positive</th>\n",
       "    </tr>\n",
       "    <tr>\n",
       "      <th>user_id</th>\n",
       "      <th>book_id</th>\n",
       "      <th></th>\n",
       "      <th></th>\n",
       "      <th></th>\n",
       "      <th></th>\n",
       "      <th></th>\n",
       "      <th></th>\n",
       "      <th></th>\n",
       "      <th></th>\n",
       "      <th></th>\n",
       "      <th></th>\n",
       "      <th></th>\n",
       "      <th></th>\n",
       "      <th></th>\n",
       "      <th></th>\n",
       "    </tr>\n",
       "  </thead>\n",
       "  <tbody>\n",
       "    <tr>\n",
       "      <th>dc3763cdb9b2cae805882878eebb6a32</th>\n",
       "      <th>18471619</th>\n",
       "      <td>3</td>\n",
       "      <td>0.0</td>\n",
       "      <td>3.000000</td>\n",
       "      <td>3.26</td>\n",
       "      <td>93</td>\n",
       "      <td>2014</td>\n",
       "      <td>181</td>\n",
       "      <td>0</td>\n",
       "      <td>3.72</td>\n",
       "      <td>3.50</td>\n",
       "      <td>4.26</td>\n",
       "      <td>0</td>\n",
       "      <td>0</td>\n",
       "      <td>1</td>\n",
       "    </tr>\n",
       "    <tr>\n",
       "      <th rowspan=\"4\" valign=\"top\">bafc2d50014200cda7cb2b6acd60cd73</th>\n",
       "      <th>6315584</th>\n",
       "      <td>4</td>\n",
       "      <td>0.0</td>\n",
       "      <td>4.285714</td>\n",
       "      <td>4.07</td>\n",
       "      <td>304</td>\n",
       "      <td>2009</td>\n",
       "      <td>108</td>\n",
       "      <td>0</td>\n",
       "      <td>4.07</td>\n",
       "      <td>4.00</td>\n",
       "      <td>3.79</td>\n",
       "      <td>0</td>\n",
       "      <td>0</td>\n",
       "      <td>1</td>\n",
       "    </tr>\n",
       "    <tr>\n",
       "      <th>29847729</th>\n",
       "      <td>4</td>\n",
       "      <td>0.0</td>\n",
       "      <td>4.285714</td>\n",
       "      <td>4.17</td>\n",
       "      <td>160</td>\n",
       "      <td>2012</td>\n",
       "      <td>110</td>\n",
       "      <td>0</td>\n",
       "      <td>4.01</td>\n",
       "      <td>4.01</td>\n",
       "      <td>4.36</td>\n",
       "      <td>0</td>\n",
       "      <td>0</td>\n",
       "      <td>1</td>\n",
       "    </tr>\n",
       "    <tr>\n",
       "      <th>18454118</th>\n",
       "      <td>5</td>\n",
       "      <td>0.0</td>\n",
       "      <td>4.285714</td>\n",
       "      <td>4.07</td>\n",
       "      <td>200</td>\n",
       "      <td>2014</td>\n",
       "      <td>90</td>\n",
       "      <td>0</td>\n",
       "      <td>2.11</td>\n",
       "      <td>3.72</td>\n",
       "      <td>3.72</td>\n",
       "      <td>0</td>\n",
       "      <td>0</td>\n",
       "      <td>1</td>\n",
       "    </tr>\n",
       "    <tr>\n",
       "      <th>2239435</th>\n",
       "      <td>4</td>\n",
       "      <td>0.0</td>\n",
       "      <td>4.285714</td>\n",
       "      <td>3.20</td>\n",
       "      <td>240</td>\n",
       "      <td>2008</td>\n",
       "      <td>4321</td>\n",
       "      <td>0</td>\n",
       "      <td>3.33</td>\n",
       "      <td>3.20</td>\n",
       "      <td>3.20</td>\n",
       "      <td>0</td>\n",
       "      <td>0</td>\n",
       "      <td>1</td>\n",
       "    </tr>\n",
       "  </tbody>\n",
       "</table>\n",
       "</div>"
      ],
      "text/plain": [
       "                                           rating  book_cluster  \\\n",
       "user_id                          book_id                          \n",
       "dc3763cdb9b2cae805882878eebb6a32 18471619       3           0.0   \n",
       "bafc2d50014200cda7cb2b6acd60cd73 6315584        4           0.0   \n",
       "                                 29847729       4           0.0   \n",
       "                                 18454118       5           0.0   \n",
       "                                 2239435        4           0.0   \n",
       "\n",
       "                                           avg_rating_by_cluster  \\\n",
       "user_id                          book_id                           \n",
       "dc3763cdb9b2cae805882878eebb6a32 18471619               3.000000   \n",
       "bafc2d50014200cda7cb2b6acd60cd73 6315584                4.285714   \n",
       "                                 29847729               4.285714   \n",
       "                                 18454118               4.285714   \n",
       "                                 2239435                4.285714   \n",
       "\n",
       "                                           average_rating  num_pages  \\\n",
       "user_id                          book_id                               \n",
       "dc3763cdb9b2cae805882878eebb6a32 18471619            3.26         93   \n",
       "bafc2d50014200cda7cb2b6acd60cd73 6315584             4.07        304   \n",
       "                                 29847729            4.17        160   \n",
       "                                 18454118            4.07        200   \n",
       "                                 2239435             3.20        240   \n",
       "\n",
       "                                           publication_year  ratings_count  \\\n",
       "user_id                          book_id                                     \n",
       "dc3763cdb9b2cae805882878eebb6a32 18471619              2014            181   \n",
       "bafc2d50014200cda7cb2b6acd60cd73 6315584               2009            108   \n",
       "                                 29847729              2012            110   \n",
       "                                 18454118              2014             90   \n",
       "                                 2239435               2008           4321   \n",
       "\n",
       "                                           cluster  most_similar_book_avg_rtg  \\\n",
       "user_id                          book_id                                        \n",
       "dc3763cdb9b2cae805882878eebb6a32 18471619        0                       3.72   \n",
       "bafc2d50014200cda7cb2b6acd60cd73 6315584         0                       4.07   \n",
       "                                 29847729        0                       4.01   \n",
       "                                 18454118        0                       2.11   \n",
       "                                 2239435         0                       3.33   \n",
       "\n",
       "                                           2nd_similar_book_avg_rtg  \\\n",
       "user_id                          book_id                              \n",
       "dc3763cdb9b2cae805882878eebb6a32 18471619                      3.50   \n",
       "bafc2d50014200cda7cb2b6acd60cd73 6315584                       4.00   \n",
       "                                 29847729                      4.01   \n",
       "                                 18454118                      3.72   \n",
       "                                 2239435                       3.20   \n",
       "\n",
       "                                           3rd_similar_book_avg_rtg  \\\n",
       "user_id                          book_id                              \n",
       "dc3763cdb9b2cae805882878eebb6a32 18471619                      4.26   \n",
       "bafc2d50014200cda7cb2b6acd60cd73 6315584                       3.79   \n",
       "                                 29847729                      4.36   \n",
       "                                 18454118                      3.72   \n",
       "                                 2239435                       3.20   \n",
       "\n",
       "                                           review_sentiment_negative  \\\n",
       "user_id                          book_id                               \n",
       "dc3763cdb9b2cae805882878eebb6a32 18471619                          0   \n",
       "bafc2d50014200cda7cb2b6acd60cd73 6315584                           0   \n",
       "                                 29847729                          0   \n",
       "                                 18454118                          0   \n",
       "                                 2239435                           0   \n",
       "\n",
       "                                           review_sentiment_neutral  \\\n",
       "user_id                          book_id                              \n",
       "dc3763cdb9b2cae805882878eebb6a32 18471619                         0   \n",
       "bafc2d50014200cda7cb2b6acd60cd73 6315584                          0   \n",
       "                                 29847729                         0   \n",
       "                                 18454118                         0   \n",
       "                                 2239435                          0   \n",
       "\n",
       "                                           review_sentiment_positive  \n",
       "user_id                          book_id                              \n",
       "dc3763cdb9b2cae805882878eebb6a32 18471619                          1  \n",
       "bafc2d50014200cda7cb2b6acd60cd73 6315584                           1  \n",
       "                                 29847729                          1  \n",
       "                                 18454118                          1  \n",
       "                                 2239435                           1  "
      ]
     },
     "execution_count": 2,
     "metadata": {},
     "output_type": "execute_result"
    }
   ],
   "source": [
    "data = pd.read_csv('../data/processed/data.csv', index_col=['user_id','book_id'])\n",
    "data.head()"
   ]
  },
  {
   "cell_type": "markdown",
   "metadata": {},
   "source": [
    "# Scaling / Test_train_split"
   ]
  },
  {
   "cell_type": "code",
   "execution_count": 3,
   "metadata": {},
   "outputs": [],
   "source": [
    "from sklearn.preprocessing import StandardScaler\n",
    "\n",
    "# Define X,y\n",
    "X = data.drop('rating', axis=1)\n",
    "y = data.rating\n",
    "\n",
    "# Preprocessing\n",
    "scaler = StandardScaler().fit(X)\n",
    "X_scaled = scaler.transform(X)"
   ]
  },
  {
   "cell_type": "code",
   "execution_count": 4,
   "metadata": {},
   "outputs": [],
   "source": [
    "# Split into training/testing sets\n",
    "from sklearn.model_selection import train_test_split\n",
    "\n",
    "y = y.ravel()\n",
    "X_train, X_test, y_train, y_test = train_test_split(X_scaled, y, random_state = 2)"
   ]
  },
  {
   "cell_type": "code",
   "execution_count": 5,
   "metadata": {},
   "outputs": [
    {
     "name": "stdout",
     "output_type": "stream",
     "text": [
      "(385560, 13)\n",
      "(289170, 13)\n",
      "(96390, 13)\n"
     ]
    }
   ],
   "source": [
    "# Check shapes\n",
    "print(X.shape)\n",
    "print(X_train.shape)\n",
    "print(X_test.shape)"
   ]
  },
  {
   "cell_type": "markdown",
   "metadata": {},
   "source": [
    "# Model 1: KNN\n",
    "\n",
    "The first model I'll try is K-Nearest Neighbors. This is a very simple type of model, so I'm not expecting exceptional results from it at first. But it should give a good starting point."
   ]
  },
  {
   "cell_type": "code",
   "execution_count": 6,
   "metadata": {},
   "outputs": [],
   "source": [
    "# First will just run it \"out of the box\"\n",
    "from sklearn.neighbors import KNeighborsClassifier\n",
    "from sklearn.metrics import accuracy_score, precision_score, recall_score, f1_score\n",
    "knn = KNeighborsClassifier()\n",
    "model_1 = knn.fit(X_train, y_train)\n",
    "y_pred = knn.predict(X_test)"
   ]
  },
  {
   "cell_type": "code",
   "execution_count": 7,
   "metadata": {},
   "outputs": [
    {
     "name": "stdout",
     "output_type": "stream",
     "text": [
      "              precision    recall  f1-score   support\n",
      "\n",
      "           0       0.71      0.58      0.64      2275\n",
      "           1       0.26      0.18      0.21      1805\n",
      "           2       0.30      0.26      0.28      6702\n",
      "           3       0.39      0.45      0.42     20799\n",
      "           4       0.50      0.56      0.53     34421\n",
      "           5       0.71      0.59      0.64     30388\n",
      "\n",
      "    accuracy                           0.52     96390\n",
      "   macro avg       0.48      0.44      0.45     96390\n",
      "weighted avg       0.53      0.52      0.52     96390\n",
      "\n"
     ]
    }
   ],
   "source": [
    "from sklearn.metrics import classification_report\n",
    "print(classification_report(y_test, y_pred, digits=2))"
   ]
  },
  {
   "cell_type": "code",
   "execution_count": 9,
   "metadata": {},
   "outputs": [
    {
     "name": "stdout",
     "output_type": "stream",
     "text": [
      "Fitting 5 folds for each of 70 candidates, totalling 350 fits\n"
     ]
    },
    {
     "name": "stderr",
     "output_type": "stream",
     "text": [
      "[Parallel(n_jobs=-1)]: Using backend LokyBackend with 8 concurrent workers.\n",
      "[Parallel(n_jobs=-1)]: Done   2 tasks      | elapsed:   25.6s\n",
      "[Parallel(n_jobs=-1)]: Done  56 tasks      | elapsed:  5.2min\n",
      "[Parallel(n_jobs=-1)]: Done 146 tasks      | elapsed: 13.1min\n",
      "[Parallel(n_jobs=-1)]: Done 272 tasks      | elapsed: 24.3min\n",
      "[Parallel(n_jobs=-1)]: Done 350 out of 350 | elapsed: 31.1min finished\n"
     ]
    }
   ],
   "source": [
    "# KNN parameter tuning\n",
    "from sklearn.model_selection import GridSearchCV\n",
    "\n",
    "# Grid of parameters to test over\n",
    "leaf_size = list(range(1,11,2))\n",
    "n_neighbors = list(range(1,15,2))\n",
    "p = [1,2]\n",
    "\n",
    "param_grid = dict(leaf_size=leaf_size, n_neighbors=n_neighbors, p=p)\n",
    "\n",
    "gs = GridSearchCV(knn, param_grid, verbose=5, cv=5, n_jobs=-1)\n",
    "\n",
    "gs_results = gs.fit(X_train, y_train)"
   ]
  },
  {
   "cell_type": "code",
   "execution_count": 10,
   "metadata": {},
   "outputs": [
    {
     "name": "stdout",
     "output_type": "stream",
     "text": [
      "Best parameters: {'leaf_size': 3, 'n_neighbors': 13, 'p': 2}\n"
     ]
    }
   ],
   "source": [
    "print('Best parameters: {}'.format(gs_results.best_params_))"
   ]
  },
  {
   "cell_type": "code",
   "execution_count": 11,
   "metadata": {},
   "outputs": [],
   "source": [
    "knn = KNeighborsClassifier(leaf_size=3, n_neighbors=23, p=2)\n",
    "model_1 = knn.fit(X_train, y_train)\n",
    "y_pred1 = knn.predict(X_test)"
   ]
  },
  {
   "cell_type": "code",
   "execution_count": 12,
   "metadata": {},
   "outputs": [
    {
     "name": "stdout",
     "output_type": "stream",
     "text": [
      "              precision    recall  f1-score   support\n",
      "\n",
      "           0       0.87      0.56      0.68      2275\n",
      "           1       0.50      0.11      0.18      1805\n",
      "           2       0.42      0.20      0.27      6702\n",
      "           3       0.44      0.46      0.45     20799\n",
      "           4       0.51      0.66      0.57     34421\n",
      "           5       0.74      0.60      0.67     30388\n",
      "\n",
      "    accuracy                           0.55     96390\n",
      "   macro avg       0.58      0.43      0.47     96390\n",
      "weighted avg       0.57      0.55      0.55     96390\n",
      "\n"
     ]
    }
   ],
   "source": [
    "print(classification_report(y_test, y_pred1, digits=2))"
   ]
  },
  {
   "cell_type": "markdown",
   "metadata": {},
   "source": [
    "# Model 2: Decision Tree\n",
    "\n",
    "Let's try decision tree algorithm."
   ]
  },
  {
   "cell_type": "code",
   "execution_count": 14,
   "metadata": {},
   "outputs": [],
   "source": [
    "from sklearn.tree import DecisionTreeClassifier\n",
    "\n",
    "model_2 = DecisionTreeClassifier(criterion='gini',max_depth=3)\n",
    "\n",
    "model_2.fit(X_train, y_train)\n",
    "\n",
    "y_pred2 = model_2.predict(X_test)"
   ]
  },
  {
   "cell_type": "code",
   "execution_count": 15,
   "metadata": {},
   "outputs": [
    {
     "name": "stdout",
     "output_type": "stream",
     "text": [
      "              precision    recall  f1-score   support\n",
      "\n",
      "           0       0.96      0.53      0.68      2275\n",
      "           1       0.00      0.00      0.00      1805\n",
      "           2       0.00      0.00      0.00      6702\n",
      "           3       0.40      0.52      0.45     20799\n",
      "           4       0.49      0.68      0.57     34421\n",
      "           5       0.79      0.54      0.64     30388\n",
      "\n",
      "    accuracy                           0.54     96390\n",
      "   macro avg       0.44      0.38      0.39     96390\n",
      "weighted avg       0.53      0.54      0.52     96390\n",
      "\n"
     ]
    },
    {
     "name": "stderr",
     "output_type": "stream",
     "text": [
      "/Users/mark/opt/anaconda3/lib/python3.8/site-packages/sklearn/metrics/_classification.py:1221: UndefinedMetricWarning: Precision and F-score are ill-defined and being set to 0.0 in labels with no predicted samples. Use `zero_division` parameter to control this behavior.\n",
      "  _warn_prf(average, modifier, msg_start, len(result))\n"
     ]
    }
   ],
   "source": [
    "print(classification_report(y_test, y_pred2, digits=2))"
   ]
  },
  {
   "cell_type": "code",
   "execution_count": 16,
   "metadata": {},
   "outputs": [
    {
     "name": "stdout",
     "output_type": "stream",
     "text": [
      "Fitting 5 folds for each of 48 candidates, totalling 240 fits\n"
     ]
    },
    {
     "name": "stderr",
     "output_type": "stream",
     "text": [
      "[Parallel(n_jobs=-1)]: Using backend LokyBackend with 8 concurrent workers.\n",
      "[Parallel(n_jobs=-1)]: Done   2 tasks      | elapsed:    2.2s\n",
      "[Parallel(n_jobs=-1)]: Done  56 tasks      | elapsed:   12.2s\n",
      "[Parallel(n_jobs=-1)]: Done 146 tasks      | elapsed:   33.1s\n",
      "[Parallel(n_jobs=-1)]: Done 240 out of 240 | elapsed:   56.2s finished\n"
     ]
    }
   ],
   "source": [
    "# Decision tree parameter tuning\n",
    "param_grid = {\n",
    "    'max_depth' : np.arange(3,11,2),\n",
    "    'criterion' : ['entropy','gini'],\n",
    "    'min_samples_leaf' : np.arange(3,15,2)\n",
    "}\n",
    "\n",
    "tree = DecisionTreeClassifier()\n",
    "gs2 = GridSearchCV(tree, param_grid, verbose=5, cv = 5, n_jobs=-1)\n",
    "\n",
    "gs2_results = gs2.fit(X_train,y_train)"
   ]
  },
  {
   "cell_type": "code",
   "execution_count": 17,
   "metadata": {},
   "outputs": [
    {
     "name": "stdout",
     "output_type": "stream",
     "text": [
      "Best parameters: {'criterion': 'entropy', 'max_depth': 9, 'min_samples_leaf': 13}\n"
     ]
    }
   ],
   "source": [
    "print('Best parameters: {}'.format(gs2_results.best_params_))"
   ]
  },
  {
   "cell_type": "code",
   "execution_count": 18,
   "metadata": {},
   "outputs": [],
   "source": [
    "# Fit best parameters\n",
    "tree = DecisionTreeClassifier(criterion='entropy',max_depth=9, min_samples_leaf=13)\n",
    "model2 = tree.fit(X_train, y_train)\n",
    "\n",
    "y_pred2 = model2.predict(X_test)"
   ]
  },
  {
   "cell_type": "code",
   "execution_count": 19,
   "metadata": {},
   "outputs": [
    {
     "name": "stdout",
     "output_type": "stream",
     "text": [
      "              precision    recall  f1-score   support\n",
      "\n",
      "           0       0.86      0.59      0.70      2275\n",
      "           1       0.63      0.16      0.25      1805\n",
      "           2       0.51      0.20      0.28      6702\n",
      "           3       0.46      0.46      0.46     20799\n",
      "           4       0.51      0.68      0.59     34421\n",
      "           5       0.75      0.62      0.68     30388\n",
      "\n",
      "    accuracy                           0.57     96390\n",
      "   macro avg       0.62      0.45      0.49     96390\n",
      "weighted avg       0.59      0.57      0.56     96390\n",
      "\n"
     ]
    }
   ],
   "source": [
    "print(classification_report(y_test, y_pred2, digits=2))"
   ]
  },
  {
   "cell_type": "markdown",
   "metadata": {},
   "source": [
    "# Model 3: Random Forest\n",
    "\n",
    "Lastly, random forest"
   ]
  },
  {
   "cell_type": "code",
   "execution_count": 20,
   "metadata": {},
   "outputs": [],
   "source": [
    "from sklearn.ensemble import RandomForestClassifier\n",
    "rfc = RandomForestClassifier()\n",
    "model_3 = rfc.fit(X_train, y_train)\n",
    "y_pred3 = model_3.predict(X_test)"
   ]
  },
  {
   "cell_type": "code",
   "execution_count": 21,
   "metadata": {},
   "outputs": [
    {
     "name": "stdout",
     "output_type": "stream",
     "text": [
      "              precision    recall  f1-score   support\n",
      "\n",
      "           0       0.70      0.59      0.64      2275\n",
      "           1       0.28      0.16      0.21      1805\n",
      "           2       0.32      0.24      0.28      6702\n",
      "           3       0.41      0.42      0.42     20799\n",
      "           4       0.51      0.56      0.53     34421\n",
      "           5       0.66      0.63      0.65     30388\n",
      "\n",
      "    accuracy                           0.52     96390\n",
      "   macro avg       0.48      0.43      0.45     96390\n",
      "weighted avg       0.52      0.52      0.52     96390\n",
      "\n"
     ]
    }
   ],
   "source": [
    "print(classification_report(y_test, y_pred3, digits=2))"
   ]
  },
  {
   "cell_type": "code",
   "execution_count": 23,
   "metadata": {},
   "outputs": [
    {
     "name": "stdout",
     "output_type": "stream",
     "text": [
      "Fitting 5 folds for each of 30 candidates, totalling 150 fits\n"
     ]
    },
    {
     "name": "stderr",
     "output_type": "stream",
     "text": [
      "[Parallel(n_jobs=-1)]: Using backend LokyBackend with 8 concurrent workers.\n",
      "[Parallel(n_jobs=-1)]: Done   2 tasks      | elapsed:  1.5min\n",
      "[Parallel(n_jobs=-1)]: Done  56 tasks      | elapsed: 14.8min\n",
      "[Parallel(n_jobs=-1)]: Done 150 out of 150 | elapsed: 39.8min finished\n"
     ]
    }
   ],
   "source": [
    "# Random forest param tuning\n",
    "param_grid = {\n",
    "    'n_estimators':np.arange(100,400,100),\n",
    "    'max_depth':[None, 3, 7, 11, 15],\n",
    "    'min_samples_leaf':np.arange(3,7,2)\n",
    "}\n",
    "\n",
    "rfc = RandomForestClassifier()\n",
    "gs3 = GridSearchCV(rfc, param_grid, verbose=5, cv=5, n_jobs=-1)\n",
    "\n",
    "gs3.results = gs3.fit(X_train, y_train)"
   ]
  },
  {
   "cell_type": "code",
   "execution_count": 26,
   "metadata": {},
   "outputs": [
    {
     "name": "stdout",
     "output_type": "stream",
     "text": [
      "Best parameters: {'max_depth': 15, 'min_samples_leaf': 5, 'n_estimators': 300}\n"
     ]
    }
   ],
   "source": [
    "print('Best parameters: {}'.format(gs3.results.best_params_))"
   ]
  },
  {
   "cell_type": "code",
   "execution_count": 27,
   "metadata": {},
   "outputs": [],
   "source": [
    "# Fit best model\n",
    "rfc = RandomForestClassifier(max_depth=15,\n",
    "                            min_samples_leaf=5,\n",
    "                            n_estimators=300)\n",
    "model3 = rfc.fit(X_train, y_train)\n",
    "y_pred3 = model3.predict(X_test)"
   ]
  },
  {
   "cell_type": "code",
   "execution_count": 28,
   "metadata": {},
   "outputs": [
    {
     "name": "stdout",
     "output_type": "stream",
     "text": [
      "              precision    recall  f1-score   support\n",
      "\n",
      "           0       0.86      0.58      0.70      2275\n",
      "           1       0.66      0.09      0.16      1805\n",
      "           2       0.52      0.17      0.26      6702\n",
      "           3       0.46      0.46      0.46     20799\n",
      "           4       0.51      0.72      0.60     34421\n",
      "           5       0.78      0.60      0.68     30388\n",
      "\n",
      "    accuracy                           0.57     96390\n",
      "   macro avg       0.63      0.44      0.48     96390\n",
      "weighted avg       0.60      0.57      0.56     96390\n",
      "\n"
     ]
    }
   ],
   "source": [
    "print(classification_report(y_test, y_pred3, digits=2))"
   ]
  },
  {
   "cell_type": "markdown",
   "metadata": {},
   "source": [
    "# Feature Importance\n",
    "\n",
    "The best performing model was the tuned Random Forest Classifier. \n",
    "\n",
    "From this model we can get an idea of the most important features of the dataset."
   ]
  },
  {
   "cell_type": "code",
   "execution_count": 31,
   "metadata": {},
   "outputs": [
    {
     "name": "stdout",
     "output_type": "stream",
     "text": [
      "book_cluster :  0.005169947673706757\n",
      "avg_rating_by_cluster :  0.6828193264054191\n",
      "average_rating :  0.0937796806318228\n",
      "num_pages :  0.025290470671583583\n",
      "publication_year :  0.020811375214686397\n",
      "ratings_count :  0.03706401575175242\n",
      "cluster :  0.005828887987491371\n",
      "most_similar_book_avg_rtg :  0.04033511119829497\n",
      "2nd_similar_book_avg_rtg :  0.03152422601331761\n",
      "3rd_similar_book_avg_rtg :  0.02814753888171977\n",
      "review_sentiment_negative :  0.013527528796286476\n",
      "review_sentiment_neutral :  0.003381812780672895\n",
      "review_sentiment_positive :  0.012320077993246036\n"
     ]
    }
   ],
   "source": [
    "# Print feature importances\n",
    "for name, importance in zip(data.drop('rating', axis=1), model3.feature_importances_):\n",
    "    print(name, ': ', importance)"
   ]
  },
  {
   "cell_type": "code",
   "execution_count": 32,
   "metadata": {},
   "outputs": [
    {
     "data": {
      "image/png": "[encoded data removed]",
      "text/plain": [
       "<Figure size 432x288 with 1 Axes>"
      ]
     },
     "metadata": {
      "needs_background": "light"
     },
     "output_type": "display_data"
    }
   ],
   "source": [
    "# Plot the relative importances\n",
    "features = data.drop('rating', axis=1).columns\n",
    "importances = model3.feature_importances_\n",
    "indices = np.argsort(importances)\n",
    "\n",
    "plt.title('Feature Importances')\n",
    "plt.barh(range(len(indices)), importances[indices], color='b', align='center')\n",
    "plt.yticks(range(len(indices)), [features[i] for i in indices])\n",
    "plt.xlabel('Relative Importances')\n",
    "\n",
    "plt.tight_layout()\n",
    "plt.savefig('../figures/feature_importances.png')\n",
    "\n",
    "plt.show()"
   ]
  },
  {
   "cell_type": "markdown",
   "metadata": {},
   "source": [
    "## Saving Model metrics"
   ]
  },
  {
   "cell_type": "code",
   "execution_count": 34,
   "metadata": {},
   "outputs": [],
   "source": [
    "model_metrics = {\n",
    "    'model type' : 'Random Forest Classifier',\n",
    "    'hyperparameters' : {'max_depth': 15, \n",
    "                         'min_samples_leaf': 5, \n",
    "                         'n_estimators': 300},\n",
    "    'performance' : classification_report(y_test, y_pred3, digits=2)\n",
    "}"
   ]
  },
  {
   "cell_type": "code",
   "execution_count": 43,
   "metadata": {},
   "outputs": [],
   "source": [
    "import json\n",
    "import os\n",
    "\n",
    "with open('../model/model_metrics.json','w')as fp:\n",
    "    json.dump(model_metrics, fp)\n"
   ]
  },
  {
   "cell_type": "code",
   "execution_count": null,
   "metadata": {},
   "outputs": [],
   "source": []
  }
 ],
 "metadata": {
  "kernelspec": {
   "display_name": "Python 3",
   "language": "python",
   "name": "python3"
  },
  "language_info": {
   "codemirror_mode": {
    "name": "ipython",
    "version": 3
   },
   "file_extension": ".py",
   "mimetype": "text/x-python",
   "name": "python",
   "nbconvert_exporter": "python",
   "pygments_lexer": "ipython3",
   "version": "3.8.3"
  }
 },
 "nbformat": 4,
 "nbformat_minor": 4
}
